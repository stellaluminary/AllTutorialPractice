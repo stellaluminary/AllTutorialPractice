{
 "cells": [
  {
   "cell_type": "markdown",
   "metadata": {},
   "source": [
    "# Advanced Tutorials - 1. Customization \n",
    "# 4. Custom training - walkthrough\n",
    "\n",
    "1. Tensorflow programming\n",
    "- Setup program\n",
    " - Configure imports\n",
    "- The iris classification problem\n",
    "- Import and parse the training dataset\n",
    " - Download the dataset\n",
    " - Inspect the data\n",
    " - Create a tf.data.Dataset\n",
    "- Select the type of model\n",
    " - Why model?\n",
    " - Select the model\n",
    " - Create a model using Keras\n",
    " - Using the model\n",
    "- Train the model\n",
    " - Define the loss and gradient function\n",
    " - Create an optimizer\n",
    " - Training loop\n",
    " - Visualize the loop function over time\n",
    "- Evaluate the model's effectiveness\n",
    " - Setup the test dataset\n",
    " - Evaluate the model on the test dataset\n",
    "- Use the trained model to make predictions\n",
    "\n",
    "GitHub : https://github.com/tensorflow/docs/blob/master/site/en/r2/tutorials/eager/custom_training_walkthrough.ipynb<br>\n",
    "Colabe : https://colab.research.google.com/github/tensorflow/docs/blob/master/site/en/r2/tutorials/eager/custom_training_walkthrough.ipynb<br>"
   ]
  },
  {
   "cell_type": "markdown",
   "metadata": {},
   "source": [
    "## 1. Tensorflow programming\n",
    "\n",
    "1. Import and parse the data sets.\n",
    "- Select the type of model.\n",
    "- Train the model.\n",
    "- Evaluate the model's effectiveness.\n",
    "- Use the trained model to make predictions."
   ]
  },
  {
   "cell_type": "markdown",
   "metadata": {},
   "source": [
    "## 2. Setup program\n",
    "### Configure imports"
   ]
  },
  {
   "cell_type": "code",
   "execution_count": 1,
   "metadata": {},
   "outputs": [
    {
     "name": "stdout",
     "output_type": "stream",
     "text": [
      "TensorFlow version: 2.0.0-alpha0\n",
      "Eager execution: True\n"
     ]
    }
   ],
   "source": [
    "from __future__ import absolute_import, division, print_function, unicode_literals\n",
    "\n",
    "import os\n",
    "import matplotlib.pyplot as plt\n",
    "import tensorflow as tf\n",
    "\n",
    "print(\"TensorFlow version: {}\".format(tf.__version__))\n",
    "print(\"Eager execution: {}\".format(tf.executing_eagerly()))"
   ]
  },
  {
   "cell_type": "markdown",
   "metadata": {},
   "source": [
    "## 3. The iris classification problem\n",
    "The Iris genus entails about 300 species, but our program will only classify the following three:\n",
    "\n",
    "- Iris setosa\n",
    "- Iris virginica\n",
    "- Iris versicolor"
   ]
  },
  {
   "cell_type": "markdown",
   "metadata": {},
   "source": [
    "## 4. Import and parse the training dataset\n",
    "### Download the dataset\n",
    "\n",
    "Download the training dataset file using the tf.keras.utils.get_file function.<br>\n",
    "This returns the file path of the downloaded file."
   ]
  },
  {
   "cell_type": "code",
   "execution_count": 2,
   "metadata": {},
   "outputs": [
    {
     "name": "stdout",
     "output_type": "stream",
     "text": [
      "Local copy of the dataset file: C:\\Users\\la\\.keras\\datasets\\iris_training.csv\n"
     ]
    }
   ],
   "source": [
    "train_dataset_url = \"https://storage.googleapis.com/download.tensorflow.org/data/iris_training.csv\"\n",
    "\n",
    "train_dataset_fp = tf.keras.utils.get_file(fname=os.path.basename(train_dataset_url),\n",
    "                                          origin=train_dataset_url)\n",
    "print('Local copy of the dataset file: {}'.format(train_dataset_fp))"
   ]
  },
  {
   "cell_type": "markdown",
   "metadata": {},
   "source": [
    "### Inspect the data"
   ]
  },
  {
   "cell_type": "code",
   "execution_count": 3,
   "metadata": {},
   "outputs": [
    {
     "data": {
      "text/plain": [
       "'C:\\\\Users\\\\la\\\\.keras\\\\datasets\\\\iris_training.csv'"
      ]
     },
     "execution_count": 3,
     "metadata": {},
     "output_type": "execute_result"
    }
   ],
   "source": [
    "train_dataset_fp"
   ]
  },
  {
   "cell_type": "code",
   "execution_count": 4,
   "metadata": {},
   "outputs": [
    {
     "name": "stdout",
     "output_type": "stream",
     "text": [
      "120,4,setosa,versicolor,virginica\n",
      "\n",
      "6.4,2.8,5.6,2.2,2\n",
      "\n",
      "5.0,2.3,3.3,1.0,1\n",
      "\n",
      "4.9,2.5,4.5,1.7,2\n",
      "\n",
      "4.9,3.1,1.5,0.1,0\n",
      "\n"
     ]
    }
   ],
   "source": [
    "#!head -n5 {train_dataset_fp}\n",
    "\n",
    "with open(train_dataset_fp) as f:\n",
    "    for _ in range(5):\n",
    "        print(f.readline())"
   ]
  },
  {
   "cell_type": "code",
   "execution_count": 5,
   "metadata": {},
   "outputs": [
    {
     "name": "stdout",
     "output_type": "stream",
     "text": [
      "Features:['sepal_length', 'sepal_width', 'petal_length', 'petal_width']\n",
      "Label:species\n"
     ]
    }
   ],
   "source": [
    "column_names = ['sepal_length', 'sepal_width','petal_length','petal_width','species']\n",
    "\n",
    "feature_names = column_names[:-1]\n",
    "label_name = column_names[-1]\n",
    "\n",
    "print('Features:{}'.format(feature_names))\n",
    "print('Label:{}'.format(label_name))"
   ]
  },
  {
   "cell_type": "markdown",
   "metadata": {},
   "source": [
    "- 0: Iris setosa\n",
    "- 1: Iris versicolor\n",
    "- 2: Iris virginica"
   ]
  },
  {
   "cell_type": "code",
   "execution_count": 6,
   "metadata": {},
   "outputs": [],
   "source": [
    "class_names=['Iris setosa', 'Iris versicolor', 'Iris virginica']"
   ]
  },
  {
   "cell_type": "markdown",
   "metadata": {},
   "source": [
    "### Create a tf.data.Dataset\n",
    "Since the dataset is a CSV-formatted text file, use the make_csv_dataset function to parse the data into a suitable format. Since this function generates data for training models, the default behavior is to shuffle the data (shuffle=True, shuffle_buffer_size=10000), and repeat the dataset forever (num_epochs=None). We also set the batch_size parameter."
   ]
  },
  {
   "cell_type": "code",
   "execution_count": 7,
   "metadata": {},
   "outputs": [],
   "source": [
    "batch_size=32\n",
    "\n",
    "train_dataset = tf.data.experimental.make_csv_dataset(\n",
    "train_dataset_fp,\n",
    "batch_size,\n",
    "column_names=column_names,\n",
    "label_name=label_name,\n",
    "num_epochs=1)"
   ]
  },
  {
   "cell_type": "code",
   "execution_count": 8,
   "metadata": {},
   "outputs": [
    {
     "data": {
      "text/plain": [
       "<PrefetchDataset shapes: (OrderedDict([(sepal_length, (None,)), (sepal_width, (None,)), (petal_length, (None,)), (petal_width, (None,))]), (None,)), types: (OrderedDict([(sepal_length, tf.float32), (sepal_width, tf.float32), (petal_length, tf.float32), (petal_width, tf.float32)]), tf.int32)>"
      ]
     },
     "execution_count": 8,
     "metadata": {},
     "output_type": "execute_result"
    }
   ],
   "source": [
    "train_dataset"
   ]
  },
  {
   "cell_type": "code",
   "execution_count": 9,
   "metadata": {},
   "outputs": [
    {
     "name": "stdout",
     "output_type": "stream",
     "text": [
      "OrderedDict([('sepal_length', <tf.Tensor: id=64, shape=(32,), dtype=float32, numpy=\n",
      "array([5.1, 6.9, 5. , 4.6, 6.5, 6.6, 6.3, 4.6, 4.7, 6.1, 4.4, 4.7, 6.4,\n",
      "       5.7, 6.8, 4.8, 6.4, 7.6, 5.5, 5.1, 5. , 5.1, 5.2, 6. , 5.2, 5.7,\n",
      "       6.7, 5.8, 7.7, 7.2, 4.8, 5.7], dtype=float32)>), ('sepal_width', <tf.Tensor: id=65, shape=(32,), dtype=float32, numpy=\n",
      "array([3.7, 3.2, 3. , 3.2, 3. , 2.9, 3.3, 3.4, 3.2, 2.8, 3.2, 3.2, 3.2,\n",
      "       3.8, 3.2, 3. , 3.1, 3. , 2.4, 2.5, 3.5, 3.8, 3.5, 3. , 2.7, 4.4,\n",
      "       3. , 4. , 3.8, 3.2, 3. , 2.8], dtype=float32)>), ('petal_length', <tf.Tensor: id=62, shape=(32,), dtype=float32, numpy=\n",
      "array([1.5, 5.7, 1.6, 1.4, 5.5, 4.6, 6. , 1.4, 1.6, 4. , 1.3, 1.3, 4.5,\n",
      "       1.7, 5.9, 1.4, 5.5, 6.6, 3.8, 3. , 1.3, 1.5, 1.5, 4.8, 3.9, 1.5,\n",
      "       5. , 1.2, 6.7, 6. , 1.4, 4.5], dtype=float32)>), ('petal_width', <tf.Tensor: id=63, shape=(32,), dtype=float32, numpy=\n",
      "array([0.4, 2.3, 0.2, 0.2, 1.8, 1.3, 2.5, 0.3, 0.2, 1.3, 0.2, 0.2, 1.5,\n",
      "       0.3, 2.3, 0.1, 1.8, 2.1, 1.1, 1.1, 0.3, 0.3, 0.2, 1.8, 1.4, 0.4,\n",
      "       1.7, 0.2, 2.2, 1.8, 0.3, 1.3], dtype=float32)>)])\n",
      "tf.Tensor([0 2 0 0 2 1 2 0 0 1 0 0 1 0 2 0 2 2 1 1 0 0 0 2 1 0 1 0 2 2 0 1], shape=(32,), dtype=int32)\n"
     ]
    }
   ],
   "source": [
    "features, labels=  next(iter(train_dataset))\n",
    "print(features)\n",
    "print(labels)"
   ]
  },
  {
   "cell_type": "code",
   "execution_count": 10,
   "metadata": {},
   "outputs": [
    {
     "data": {
      "text/plain": [
       "Text(0, 0.5, 'Setal length')"
      ]
     },
     "execution_count": 10,
     "metadata": {},
     "output_type": "execute_result"
    },
    {
     "data": {
      "image/png": "[encoded data removed]",
      "text/plain": [
       "<Figure size 432x288 with 1 Axes>"
      ]
     },
     "metadata": {
      "needs_background": "light"
     },
     "output_type": "display_data"
    }
   ],
   "source": [
    "plt.scatter(features['petal_length'],\n",
    "           features['sepal_length'],\n",
    "           c=labels,\n",
    "           cmap='viridis')\n",
    "\n",
    "plt.xlabel('Petal length')\n",
    "plt.ylabel('Setal length')"
   ]
  },
  {
   "cell_type": "code",
   "execution_count": 11,
   "metadata": {},
   "outputs": [
    {
     "data": {
      "text/plain": [
       "odict_values([<tf.Tensor: id=64, shape=(32,), dtype=float32, numpy=\n",
       "array([5.1, 6.9, 5. , 4.6, 6.5, 6.6, 6.3, 4.6, 4.7, 6.1, 4.4, 4.7, 6.4,\n",
       "       5.7, 6.8, 4.8, 6.4, 7.6, 5.5, 5.1, 5. , 5.1, 5.2, 6. , 5.2, 5.7,\n",
       "       6.7, 5.8, 7.7, 7.2, 4.8, 5.7], dtype=float32)>, <tf.Tensor: id=65, shape=(32,), dtype=float32, numpy=\n",
       "array([3.7, 3.2, 3. , 3.2, 3. , 2.9, 3.3, 3.4, 3.2, 2.8, 3.2, 3.2, 3.2,\n",
       "       3.8, 3.2, 3. , 3.1, 3. , 2.4, 2.5, 3.5, 3.8, 3.5, 3. , 2.7, 4.4,\n",
       "       3. , 4. , 3.8, 3.2, 3. , 2.8], dtype=float32)>, <tf.Tensor: id=62, shape=(32,), dtype=float32, numpy=\n",
       "array([1.5, 5.7, 1.6, 1.4, 5.5, 4.6, 6. , 1.4, 1.6, 4. , 1.3, 1.3, 4.5,\n",
       "       1.7, 5.9, 1.4, 5.5, 6.6, 3.8, 3. , 1.3, 1.5, 1.5, 4.8, 3.9, 1.5,\n",
       "       5. , 1.2, 6.7, 6. , 1.4, 4.5], dtype=float32)>, <tf.Tensor: id=63, shape=(32,), dtype=float32, numpy=\n",
       "array([0.4, 2.3, 0.2, 0.2, 1.8, 1.3, 2.5, 0.3, 0.2, 1.3, 0.2, 0.2, 1.5,\n",
       "       0.3, 2.3, 0.1, 1.8, 2.1, 1.1, 1.1, 0.3, 0.3, 0.2, 1.8, 1.4, 0.4,\n",
       "       1.7, 0.2, 2.2, 1.8, 0.3, 1.3], dtype=float32)>])"
      ]
     },
     "execution_count": 11,
     "metadata": {},
     "output_type": "execute_result"
    }
   ],
   "source": [
    "features.values()"
   ]
  },
  {
   "cell_type": "code",
   "execution_count": 12,
   "metadata": {},
   "outputs": [
    {
     "data": {
      "text/plain": [
       "[<tf.Tensor: id=64, shape=(32,), dtype=float32, numpy=\n",
       " array([5.1, 6.9, 5. , 4.6, 6.5, 6.6, 6.3, 4.6, 4.7, 6.1, 4.4, 4.7, 6.4,\n",
       "        5.7, 6.8, 4.8, 6.4, 7.6, 5.5, 5.1, 5. , 5.1, 5.2, 6. , 5.2, 5.7,\n",
       "        6.7, 5.8, 7.7, 7.2, 4.8, 5.7], dtype=float32)>,\n",
       " <tf.Tensor: id=65, shape=(32,), dtype=float32, numpy=\n",
       " array([3.7, 3.2, 3. , 3.2, 3. , 2.9, 3.3, 3.4, 3.2, 2.8, 3.2, 3.2, 3.2,\n",
       "        3.8, 3.2, 3. , 3.1, 3. , 2.4, 2.5, 3.5, 3.8, 3.5, 3. , 2.7, 4.4,\n",
       "        3. , 4. , 3.8, 3.2, 3. , 2.8], dtype=float32)>,\n",
       " <tf.Tensor: id=62, shape=(32,), dtype=float32, numpy=\n",
       " array([1.5, 5.7, 1.6, 1.4, 5.5, 4.6, 6. , 1.4, 1.6, 4. , 1.3, 1.3, 4.5,\n",
       "        1.7, 5.9, 1.4, 5.5, 6.6, 3.8, 3. , 1.3, 1.5, 1.5, 4.8, 3.9, 1.5,\n",
       "        5. , 1.2, 6.7, 6. , 1.4, 4.5], dtype=float32)>,\n",
       " <tf.Tensor: id=63, shape=(32,), dtype=float32, numpy=\n",
       " array([0.4, 2.3, 0.2, 0.2, 1.8, 1.3, 2.5, 0.3, 0.2, 1.3, 0.2, 0.2, 1.5,\n",
       "        0.3, 2.3, 0.1, 1.8, 2.1, 1.1, 1.1, 0.3, 0.3, 0.2, 1.8, 1.4, 0.4,\n",
       "        1.7, 0.2, 2.2, 1.8, 0.3, 1.3], dtype=float32)>]"
      ]
     },
     "execution_count": 12,
     "metadata": {},
     "output_type": "execute_result"
    }
   ],
   "source": [
    "list(features.values())"
   ]
  },
  {
   "cell_type": "code",
   "execution_count": 13,
   "metadata": {},
   "outputs": [],
   "source": [
    "def pack_features_vector(features, labels):\n",
    "    features = tf.stack(list(features.values()), axis=1)\n",
    "    return features, labels"
   ]
  },
  {
   "cell_type": "code",
   "execution_count": 14,
   "metadata": {},
   "outputs": [],
   "source": [
    "train_dataset = train_dataset.map(pack_features_vector)"
   ]
  },
  {
   "cell_type": "code",
   "execution_count": 15,
   "metadata": {},
   "outputs": [
    {
     "name": "stdout",
     "output_type": "stream",
     "text": [
      "tf.Tensor(\n",
      "[[5.1 3.7 1.5 0.4]\n",
      " [6.9 3.2 5.7 2.3]\n",
      " [5.  3.  1.6 0.2]\n",
      " [4.6 3.2 1.4 0.2]\n",
      " [6.5 3.  5.5 1.8]], shape=(5, 4), dtype=float32)\n"
     ]
    }
   ],
   "source": [
    "features,labels = next(iter(train_dataset))\n",
    "print(features[:5])"
   ]
  },
  {
   "cell_type": "markdown",
   "metadata": {},
   "source": [
    "## 5. Select the type of model\n",
    "### Why model?"
   ]
  },
  {
   "cell_type": "markdown",
   "metadata": {},
   "source": [
    "### Select the model"
   ]
  },
  {
   "cell_type": "markdown",
   "metadata": {},
   "source": [
    "### Create a model using Keras"
   ]
  },
  {
   "cell_type": "code",
   "execution_count": 16,
   "metadata": {},
   "outputs": [],
   "source": [
    "model = tf.keras.Sequential([\n",
    "  tf.keras.layers.Dense(10, activation=tf.nn.relu, input_shape=(4,)), \n",
    "  tf.keras.layers.Dense(10, activation=tf.nn.relu),\n",
    "  tf.keras.layers.Dense(3)\n",
    "])"
   ]
  },
  {
   "cell_type": "markdown",
   "metadata": {},
   "source": [
    "### Using the model"
   ]
  },
  {
   "cell_type": "code",
   "execution_count": 17,
   "metadata": {},
   "outputs": [
    {
     "data": {
      "text/plain": [
       "<tf.Tensor: id=238, shape=(5, 3), dtype=float32, numpy=\n",
       "array([[ 2.3506193 , -1.317818  ,  0.18739784],\n",
       "       [ 2.7398806 , -1.0467925 , -0.1464616 ],\n",
       "       [ 2.1633856 , -1.2031745 ,  0.14875787],\n",
       "       [ 2.1371155 , -1.2077236 ,  0.17845029],\n",
       "       [ 2.6655247 , -1.1437138 , -0.06810462]], dtype=float32)>"
      ]
     },
     "execution_count": 17,
     "metadata": {},
     "output_type": "execute_result"
    }
   ],
   "source": [
    "predictions = model(features)\n",
    "predictions[:5]"
   ]
  },
  {
   "cell_type": "code",
   "execution_count": 18,
   "metadata": {},
   "outputs": [
    {
     "data": {
      "text/plain": [
       "<tf.Tensor: id=244, shape=(5, 3), dtype=float32, numpy=\n",
       "array([[0.8768311 , 0.02237349, 0.10079543],\n",
       "       [0.92725605, 0.02102173, 0.05172223],\n",
       "       [0.8562537 , 0.02954772, 0.1141986 ],\n",
       "       [0.8501143 , 0.02998004, 0.1199057 ],\n",
       "       [0.9198379 , 0.02038825, 0.05977385]], dtype=float32)>"
      ]
     },
     "execution_count": 18,
     "metadata": {},
     "output_type": "execute_result"
    }
   ],
   "source": [
    "tf.nn.softmax(predictions[:5])"
   ]
  },
  {
   "cell_type": "code",
   "execution_count": 19,
   "metadata": {},
   "outputs": [
    {
     "name": "stdout",
     "output_type": "stream",
     "text": [
      "Predictions:[0 0 0 0 0 0 0 0 0 0 0 0 0 0 0 0 0 0 0 0 0 0 0 0 0 0 0 0 0 0 0 0]\n",
      "     Labels:[0 2 0 0 2 1 2 0 0 1 0 0 1 0 2 0 2 2 1 1 0 0 0 2 1 0 1 0 2 2 0 1]\n"
     ]
    }
   ],
   "source": [
    "print('Predictions:{}'.format(tf.argmax(predictions, axis=1)))\n",
    "print(\"     Labels:{}\".format(labels))      "
   ]
  },
  {
   "cell_type": "markdown",
   "metadata": {},
   "source": [
    "## 6. Train the model\n",
    "### Define the loss and gradient function"
   ]
  },
  {
   "cell_type": "code",
   "execution_count": 20,
   "metadata": {},
   "outputs": [],
   "source": [
    "loss_object = tf.keras.losses.SparseCategoricalCrossentropy(from_logits=True)"
   ]
  },
  {
   "cell_type": "code",
   "execution_count": 21,
   "metadata": {},
   "outputs": [],
   "source": [
    "def loss(model,x,y):\n",
    "    y_=model(x)\n",
    "    \n",
    "    return loss_object(y_true=y, y_pred=y_)"
   ]
  },
  {
   "cell_type": "code",
   "execution_count": 22,
   "metadata": {},
   "outputs": [
    {
     "name": "stdout",
     "output_type": "stream",
     "text": [
      "Loss test: 1.8373010158538818\n"
     ]
    }
   ],
   "source": [
    "l = loss(model, features, labels)\n",
    "print('Loss test: {}'.format(l))"
   ]
  },
  {
   "cell_type": "code",
   "execution_count": 23,
   "metadata": {},
   "outputs": [],
   "source": [
    "def grad(model, inputs, targets):\n",
    "    with tf.GradientTape() as tape:\n",
    "        loss_value = loss(model, inputs, targets)\n",
    "    return loss_value, tape.gradient(loss_value, model.trainable_variables)"
   ]
  },
  {
   "cell_type": "markdown",
   "metadata": {},
   "source": [
    "### Create an optimizer"
   ]
  },
  {
   "cell_type": "code",
   "execution_count": 24,
   "metadata": {},
   "outputs": [],
   "source": [
    "optimizer = tf.keras.optimizers.Adam(learning_rate=0.01)"
   ]
  },
  {
   "cell_type": "code",
   "execution_count": 25,
   "metadata": {},
   "outputs": [
    {
     "name": "stdout",
     "output_type": "stream",
     "text": [
      "Step:0, Initial Loss:1.8373010158538818\n",
      "Step:1, Loss:1.5925877094268799\n"
     ]
    }
   ],
   "source": [
    "loss_value, grads = grad(model, features, labels)\n",
    "\n",
    "print('Step:{}, Initial Loss:{}'.format(optimizer.iterations.numpy(),\n",
    "                                       loss_value.numpy()))\n",
    "\n",
    "optimizer.apply_gradients(zip(grads, model.trainable_variables))\n",
    "print('Step:{}, Loss:{}'.format(optimizer.iterations.numpy(),\n",
    "                               loss(model, features, labels).numpy()))"
   ]
  },
  {
   "cell_type": "markdown",
   "metadata": {},
   "source": [
    "### Training loop\n",
    "1. Iterate each epoch. An epoch is one pass through the dataset.\n",
    "- Within an epoch, iterate over each example in the training Dataset grabbing its features (x) and label (y).\n",
    "- Using the example's features, make a prediction and compare it with the label. Measure the inaccuracy of the prediction and use that to calculate the model's loss and gradients.\n",
    "- Use an optimizer to update the model's variables.\n",
    "- Keep track of some stats for visualization.\n",
    "- Repeat for each epoch."
   ]
  },
  {
   "cell_type": "code",
   "execution_count": 26,
   "metadata": {},
   "outputs": [
    {
     "name": "stdout",
     "output_type": "stream",
     "text": [
      "Epoch 000: Loss:1.555, Accuracy:35.000%\n",
      "Epoch 050: Loss:0.062, Accuracy:97.500%\n",
      "Epoch 100: Loss:0.053, Accuracy:98.333%\n",
      "Epoch 150: Loss:0.044, Accuracy:99.167%\n",
      "Epoch 200: Loss:0.042, Accuracy:99.167%\n"
     ]
    }
   ],
   "source": [
    "train_loss_results=[]\n",
    "train_accuracy_results =[]\n",
    "\n",
    "num_epochs = 201\n",
    "\n",
    "for epoch in range(num_epochs):\n",
    "    epoch_loss_avg = tf.keras.metrics.Mean()\n",
    "    epoch_accuracy = tf.keras.metrics.SparseCategoricalAccuracy()\n",
    "    \n",
    "    for x,y in train_dataset:\n",
    "        loss_value, grads = grad(model, x, y)\n",
    "        optimizer.apply_gradients(zip(grads, model.trainable_variables))\n",
    "        \n",
    "        epoch_loss_avg(loss_value)\n",
    "        epoch_accuracy(y,model(x))\n",
    "        \n",
    "    train_loss_results.append(epoch_loss_avg.result())\n",
    "    train_accuracy_results.append(epoch_accuracy.result())\n",
    "    \n",
    "    if epoch % 50 ==0:\n",
    "        print('Epoch {:03d}: Loss:{:.3f}, Accuracy:{:.3%}'.format(epoch, \n",
    "                                                                 epoch_loss_avg.result(),\n",
    "                                                                 epoch_accuracy.result()))"
   ]
  },
  {
   "cell_type": "markdown",
   "metadata": {},
   "source": [
    "### Visualize the loop function over time"
   ]
  },
  {
   "cell_type": "code",
   "execution_count": 27,
   "metadata": {},
   "outputs": [
    {
     "data": {
      "image/png": "[encoded data removed]",
      "text/plain": [
       "<Figure size 864x576 with 2 Axes>"
      ]
     },
     "metadata": {
      "needs_background": "light"
     },
     "output_type": "display_data"
    }
   ],
   "source": [
    "fig, axes = plt.subplots(2, sharex=True, figsize=(12,8))\n",
    "fig.suptitle('Training Metrics')\n",
    "\n",
    "axes[0].set_ylabel('Loss', fontsize=14)\n",
    "axes[0].plot(train_loss_results)\n",
    "\n",
    "axes[1].set_ylabel(\"Accuracy\", fontsize=14)\n",
    "axes[1].set_xlabel(\"Epoch\", fontsize=14)\n",
    "axes[1].plot(train_accuracy_results);"
   ]
  },
  {
   "cell_type": "markdown",
   "metadata": {},
   "source": [
    "## 7. Evaluate the model's effectiveness\n",
    "### Setup the test dataset\n"
   ]
  },
  {
   "cell_type": "code",
   "execution_count": 28,
   "metadata": {},
   "outputs": [],
   "source": [
    "test_url = \"https://storage.googleapis.com/download.tensorflow.org/data/iris_test.csv\"\n",
    "\n",
    "test_fp = tf.keras.utils.get_file(fname=os.path.basename(test_url),\n",
    "                                  origin=test_url)"
   ]
  },
  {
   "cell_type": "code",
   "execution_count": 29,
   "metadata": {},
   "outputs": [],
   "source": [
    "test_dataset = tf.data.experimental.make_csv_dataset(\n",
    "    test_fp,\n",
    "    batch_size,\n",
    "    column_names=column_names,\n",
    "    label_name='species',\n",
    "    num_epochs=1,\n",
    "    shuffle=False)\n",
    "\n",
    "test_dataset = test_dataset.map(pack_features_vector)"
   ]
  },
  {
   "cell_type": "markdown",
   "metadata": {},
   "source": [
    "### Evaluate the model on the test dataset"
   ]
  },
  {
   "cell_type": "code",
   "execution_count": 30,
   "metadata": {},
   "outputs": [
    {
     "name": "stdout",
     "output_type": "stream",
     "text": [
      "Test set accuracy: 96.667%\n"
     ]
    }
   ],
   "source": [
    "test_accuracy = tf.keras.metrics.Accuracy()\n",
    "\n",
    "for (x, y) in test_dataset:\n",
    "    logits = model(x)\n",
    "    prediction = tf.argmax(logits, axis=1, output_type=tf.int32)\n",
    "    test_accuracy(prediction, y)\n",
    "\n",
    "print(\"Test set accuracy: {:.3%}\".format(test_accuracy.result()))"
   ]
  },
  {
   "cell_type": "code",
   "execution_count": 31,
   "metadata": {},
   "outputs": [
    {
     "data": {
      "text/plain": [
       "<tf.Tensor: id=166439, shape=(30, 2), dtype=int32, numpy=\n",
       "array([[1, 1],\n",
       "       [2, 2],\n",
       "       [0, 0],\n",
       "       [1, 1],\n",
       "       [1, 1],\n",
       "       [1, 1],\n",
       "       [0, 0],\n",
       "       [2, 1],\n",
       "       [1, 1],\n",
       "       [2, 2],\n",
       "       [2, 2],\n",
       "       [0, 0],\n",
       "       [2, 2],\n",
       "       [1, 1],\n",
       "       [1, 1],\n",
       "       [0, 0],\n",
       "       [1, 1],\n",
       "       [0, 0],\n",
       "       [0, 0],\n",
       "       [2, 2],\n",
       "       [0, 0],\n",
       "       [1, 1],\n",
       "       [2, 2],\n",
       "       [1, 1],\n",
       "       [1, 1],\n",
       "       [1, 1],\n",
       "       [0, 0],\n",
       "       [1, 1],\n",
       "       [2, 2],\n",
       "       [1, 1]])>"
      ]
     },
     "execution_count": 31,
     "metadata": {},
     "output_type": "execute_result"
    }
   ],
   "source": [
    "tf.stack([y,prediction],axis=1)"
   ]
  },
  {
   "cell_type": "markdown",
   "metadata": {},
   "source": [
    "## 8. Use the trained model to make predictions"
   ]
  },
  {
   "cell_type": "code",
   "execution_count": 32,
   "metadata": {},
   "outputs": [
    {
     "name": "stdout",
     "output_type": "stream",
     "text": [
      "Example 0 prediction: Iris setosa (100.0%)\n",
      "Example 1 prediction: Iris versicolor (100.0%)\n",
      "Example 2 prediction: Iris virginica (99.6%)\n"
     ]
    }
   ],
   "source": [
    "predict_dataset = tf.convert_to_tensor([\n",
    "    [5.1, 3.3, 1.7, 0.5,],\n",
    "    [5.9, 3.0, 4.2, 1.5,],\n",
    "    [6.9, 3.1, 5.4, 2.1]\n",
    "])\n",
    "\n",
    "predictions = model(predict_dataset)\n",
    "\n",
    "for i,logits in enumerate(predictions):\n",
    "    class_idx = tf.argmax(logits).numpy()\n",
    "    p = tf.nn.softmax(logits)[class_idx]\n",
    "    name= class_names[class_idx]\n",
    "    print(\"Example {} prediction: {} ({:4.1f}%)\".format(i, name, 100*p))"
   ]
  }
 ],
 "metadata": {
  "kernelspec": {
   "display_name": "tf20a",
   "language": "python",
   "name": "tf20a"
  },
  "language_info": {
   "codemirror_mode": {
    "name": "ipython",
    "version": 3
   },
   "file_extension": ".py",
   "mimetype": "text/x-python",
   "name": "python",
   "nbconvert_exporter": "python",
   "pygments_lexer": "ipython3",
   "version": "3.6.8"
  }
 },
 "nbformat": 4,
 "nbformat_minor": 2
}
