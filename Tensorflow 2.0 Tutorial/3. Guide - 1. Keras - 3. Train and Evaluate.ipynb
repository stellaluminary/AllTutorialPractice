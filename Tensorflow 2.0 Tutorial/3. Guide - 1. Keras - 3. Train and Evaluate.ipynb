{
 "cells": [
  {
   "cell_type": "markdown",
   "metadata": {},
   "source": [
    "# 3. Guide - 1. Keras - 3. Train and Evaluate\n",
    "\n",
    "URL : https://www.tensorflow.org/alpha/guide/keras/training_and_evaluation\n",
    "\n",
    "목차\n",
    "1. Setup\n",
    "2. Part 1: Using build in training & evaluation loops\n",
    " 1. API overview: a first end-to-end example\n",
    " - Specifying a loos, metrics, and an optimizer\n",
    " - Training & Evaluation from tf.data Datasets\n",
    " - Other input formats supported\n",
    " - Using sample weighting and class weighting\n",
    " - Passing data to multi-input, multi-output models\n",
    " - Using callbacks\n",
    " - Checkpointing models\n",
    " - Using learning rate schedules\n",
    " - Visualizing loss and metrics during training\n",
    "3. Part 2: Writing your own training & Evaluation loops from scratch\n",
    " 1. Using the GradientTape: a first end-to-end example\n",
    " - Low-level handling of metrics\n",
    " - Low-level handling of extra losses"
   ]
  },
  {
   "cell_type": "markdown",
   "metadata": {},
   "source": [
    "## 1. Setup"
   ]
  },
  {
   "cell_type": "code",
   "execution_count": 1,
   "metadata": {},
   "outputs": [],
   "source": [
    "from __future__ import absolute_import, division, print_function, unicode_literals\n",
    "\n",
    "import tensorflow as tf\n",
    "\n",
    "tf.keras.backend.clear_session()"
   ]
  },
  {
   "cell_type": "code",
   "execution_count": 2,
   "metadata": {},
   "outputs": [
    {
     "name": "stdout",
     "output_type": "stream",
     "text": [
      "2.0.0-alpha0\n"
     ]
    }
   ],
   "source": [
    "print(tf.__version__)"
   ]
  },
  {
   "cell_type": "markdown",
   "metadata": {},
   "source": [
    "## 2. Part 1: Using build in training & evaluation loops\n",
    "### A. API overview: a first end-to-end example"
   ]
  },
  {
   "cell_type": "code",
   "execution_count": 3,
   "metadata": {},
   "outputs": [],
   "source": [
    "from tensorflow import keras\n",
    "from tensorflow.keras import layers"
   ]
  },
  {
   "cell_type": "code",
   "execution_count": 4,
   "metadata": {},
   "outputs": [],
   "source": [
    "inputs = keras.Input(shape=(784,), name = 'digits')\n",
    "x = layers.Dense(64, activation='relu', name = 'dense_1')(inputs)\n",
    "x = layers.Dense(64, activation='relu', name = 'dense_2')(x)\n",
    "outputs = layers.Dense(10, activation='softmax', name = 'predictions')(x)\n",
    "\n",
    "model = keras.Model(inputs=inputs, outputs=outputs)"
   ]
  },
  {
   "cell_type": "code",
   "execution_count": 5,
   "metadata": {},
   "outputs": [
    {
     "name": "stdout",
     "output_type": "stream",
     "text": [
      "(60000, 28, 28) (60000,) (10000, 28, 28) (10000,)\n",
      "# Fit model on training data\n",
      "Train on 50000 samples, validate on 10000 samples\n",
      "Epoch 1/3\n",
      "50000/50000 [==============================] - 4s 72us/sample - loss: 0.3495 - sparse_categorical_accuracy: 0.9009 - val_loss: 0.1838 - val_sparse_categorical_accuracy: 0.9485\n",
      "Epoch 2/3\n",
      "50000/50000 [==============================] - 3s 57us/sample - loss: 0.1625 - sparse_categorical_accuracy: 0.9519 - val_loss: 0.1389 - val_sparse_categorical_accuracy: 0.9593\n",
      "Epoch 3/3\n",
      "50000/50000 [==============================] - 3s 56us/sample - loss: 0.1176 - sparse_categorical_accuracy: 0.9647 - val_loss: 0.1112 - val_sparse_categorical_accuracy: 0.9670\n",
      "\n",
      "history dict: {'loss': [0.34946327020168305, 0.1625308425951004, 0.11756974479988218], 'sparse_categorical_accuracy': [0.9009, 0.9519, 0.9647], 'val_loss': [0.1837874125957489, 0.1388524640917778, 0.11115633536577224], 'val_sparse_categorical_accuracy': [0.9485, 0.9593, 0.967]}\n",
      "\n",
      "# Evaluate on test data\n",
      "10000/10000 [==============================] - 0s 16us/sample - loss: 0.1118 - sparse_categorical_accuracy: 0.9652\n",
      "test loss, test acc: [0.11184370727166533, 0.9652]\n",
      "\n",
      "# Generate predictions for 3 samples\n",
      "predictions shape: (3, 10)\n"
     ]
    }
   ],
   "source": [
    "(x_train, y_train), (x_test, y_test) = keras.datasets.mnist.load_data()\n",
    "\n",
    "print(x_train.shape, y_train.shape, x_test.shape, y_test.shape)\n",
    "\n",
    "x_train = x_train.reshape(60000, 784).astype('float32') / 255\n",
    "x_test = x_test.reshape(10000, 784).astype('float32') / 255\n",
    "\n",
    "x_val = x_train[-10000:]\n",
    "y_val = y_train[-10000:]\n",
    "x_train = x_train[:-10000]\n",
    "y_train = y_train[:-10000]\n",
    "\n",
    "model.compile(optimizer = keras.optimizers.RMSprop(),\n",
    "             loss = keras.losses.SparseCategoricalCrossentropy(),\n",
    "             metrics = [keras.metrics.SparseCategoricalAccuracy()])\n",
    "\n",
    "print('# Fit model on training data')\n",
    "history = model.fit(x_train, y_train,\n",
    "                   batch_size=64,\n",
    "                   epochs=3,\n",
    "                   validation_data=(x_val, y_val))\n",
    "\n",
    "print('\\nhistory dict:', history.history)\n",
    "print('\\n# Evaluate on test data')\n",
    "results = model.evaluate(x_test, y_test, batch_size=128)\n",
    "print('test loss, test acc:', results)\n",
    "\n",
    "print('\\n# Generate predictions for 3 samples')\n",
    "predictions = model.predict(x_test[:3])\n",
    "print('predictions shape:', predictions.shape)"
   ]
  },
  {
   "cell_type": "markdown",
   "metadata": {},
   "source": [
    "### B. Specifying a loos, metrics, and an optimizer"
   ]
  },
  {
   "cell_type": "code",
   "execution_count": 6,
   "metadata": {},
   "outputs": [],
   "source": [
    "model.compile(optimizer=keras.optimizers.RMSprop(learning_rate=1e-3),\n",
    "              loss=keras.losses.SparseCategoricalCrossentropy(),\n",
    "              metrics=[keras.metrics.SparseCategoricalAccuracy()])"
   ]
  },
  {
   "cell_type": "code",
   "execution_count": 7,
   "metadata": {},
   "outputs": [],
   "source": [
    "model.compile(optimizer = keras.optimizers.RMSprop(learning_rate=1e-3),\n",
    "             loss = 'sparse_categorical_crossentropy',\n",
    "             metrics = ['sparse_categorical_accuracy'])"
   ]
  },
  {
   "cell_type": "code",
   "execution_count": 8,
   "metadata": {},
   "outputs": [],
   "source": [
    "def get_uncompiled_model():\n",
    "    inputs = keras.Input(shape=(784,), name='digits')\n",
    "    x = layers.Dense(64, activation='relu', name='dense_1')(inputs)\n",
    "    x = layers.Dense(64, activation='relu', name='dense_2')(x)\n",
    "    outputs = layers.Dense(10, activation='softmax', name='predictions')(x)\n",
    "    model = keras.Model(inputs=inputs, outputs=outputs)\n",
    "    return model\n",
    "\n",
    "def get_compiled_model():\n",
    "    model = get_uncompiled_model()\n",
    "    model.compile(optimizer=keras.optimizers.RMSprop(learning_rate=1e-3),\n",
    "              loss='sparse_categorical_crossentropy',\n",
    "              metrics=['sparse_categorical_accuracy'])\n",
    "    return model"
   ]
  },
  {
   "cell_type": "markdown",
   "metadata": {},
   "source": [
    "#### Writing custom losses and metrics\n",
    "\n",
    "- <b>__init__(self)</b>, in which you will create state variables for your metric.\n",
    "- <b>update_state(self, y_true, y_pred, sample_weight=None)</b>, which uses the targets y_true and the model predictions y_pred to update the state variables.\n",
    "- <b>result(self)</b>, which uses the state variables to compute the final results.\n",
    "- <b>reset_states(self)</b>, which reinitializes the state of the metric."
   ]
  },
  {
   "cell_type": "code",
   "execution_count": 9,
   "metadata": {},
   "outputs": [],
   "source": [
    "class CategoricalTruePositives(keras.metrics.Metric):\n",
    "    def __init__(self, name='binary_true_positives', **kwargs):\n",
    "        super(CategoricalTruePositives, self).__init__(name=name, **kwargs)\n",
    "        self.true_positives = self.add_weight(name='tp', initializer='zeros')\n",
    "        \n",
    "    def update_state(self, y_true, y_pred, sample_weight=None):\n",
    "        y_pred = tf.argmax(y_pred)\n",
    "        values = tf.equal(tf.cast(y_true,'int32'), tf.cast(y_pred,'int32'))\n",
    "        values = tf.cast(values,'float32')\n",
    "        if sample_weight is not None:\n",
    "            sample_weight = tf.cast(sample_weight, 'float32')\n",
    "            values = tf.multiply(values, sample_weight)\n",
    "        return self.true_positives.assign_add(tf.reduce_sum(values))\n",
    "    \n",
    "    def result(self):\n",
    "        return tf.identity(self.true_positives)\n",
    "    \n",
    "    def reset_states(self):\n",
    "        self.true_positives.assign(0.)"
   ]
  },
  {
   "cell_type": "code",
   "execution_count": 10,
   "metadata": {},
   "outputs": [
    {
     "name": "stdout",
     "output_type": "stream",
     "text": [
      "Epoch 1/3\n",
      "50000/50000 [==============================] - 3s 63us/sample - loss: 0.0939 - binary_true_positives: 7739.0000\n",
      "Epoch 2/3\n",
      "50000/50000 [==============================] - 3s 52us/sample - loss: 0.0761 - binary_true_positives: 8495.0000\n",
      "Epoch 3/3\n",
      "50000/50000 [==============================] - 3s 64us/sample - loss: 0.0656 - binary_true_positives: 7935.0000\n"
     ]
    },
    {
     "data": {
      "text/plain": [
       "<tensorflow.python.keras.callbacks.History at 0x29d87cc0be0>"
      ]
     },
     "execution_count": 10,
     "metadata": {},
     "output_type": "execute_result"
    }
   ],
   "source": [
    "model.compile(optimizer = keras.optimizers.RMSprop(1e-3),\n",
    "             loss = keras.losses.SparseCategoricalCrossentropy(),\n",
    "             metrics=[CategoricalTruePositives()])\n",
    "\n",
    "model.fit(x_train, y_train,\n",
    "         batch_size=64,\n",
    "         epochs=3)"
   ]
  },
  {
   "cell_type": "markdown",
   "metadata": {},
   "source": [
    "#### Handling losses and metrics that don't fit the standard signature"
   ]
  },
  {
   "cell_type": "code",
   "execution_count": 11,
   "metadata": {},
   "outputs": [
    {
     "name": "stdout",
     "output_type": "stream",
     "text": [
      "50000/50000 [==============================] - 2s 48us/sample - loss: 2.4810\n"
     ]
    },
    {
     "data": {
      "text/plain": [
       "<tensorflow.python.keras.callbacks.History at 0x29d89522c88>"
      ]
     },
     "execution_count": 11,
     "metadata": {},
     "output_type": "execute_result"
    }
   ],
   "source": [
    "class ActivityRegularizationLayer(layers.Layer):\n",
    "    def call(self,inputs):\n",
    "        self.add_loss(tf.reduce_sum(inputs) * 0.1)\n",
    "        return inputs\n",
    "    \n",
    "inputs = keras.Input(shape=(784,), name='digits')\n",
    "x = layers.Dense(64, activation='relu', name='dense_1')(inputs)\n",
    "\n",
    "x = ActivityRegularizationLayer()(x)\n",
    "\n",
    "x = layers.Dense(64, activation='relu', name='dense_2')(x)\n",
    "outputs = layers.Dense(10, activation='softmax', name='predictions')(x)\n",
    "\n",
    "model = keras.Model(inputs=inputs, outputs=outputs)\n",
    "model.compile(optimizer=keras.optimizers.RMSprop(learning_rate=1e-3),\n",
    "              loss='sparse_categorical_crossentropy')\n",
    "\n",
    "model.fit(x_train, y_train,\n",
    "          batch_size=64,\n",
    "          epochs=1)"
   ]
  },
  {
   "cell_type": "code",
   "execution_count": 12,
   "metadata": {},
   "outputs": [
    {
     "name": "stdout",
     "output_type": "stream",
     "text": [
      "50000/50000 [==============================] - 3s 67us/sample - loss: 0.3477 - std_of_activation: 0.9815\n"
     ]
    },
    {
     "data": {
      "text/plain": [
       "<tensorflow.python.keras.callbacks.History at 0x29d6dcf2c18>"
      ]
     },
     "execution_count": 12,
     "metadata": {},
     "output_type": "execute_result"
    }
   ],
   "source": [
    "class MetricLoggingLayer(layers.Layer):\n",
    "    def call(self, inputs):\n",
    "        self.add_metric(keras.backend.std(inputs),\n",
    "                       name='std_of_activation',\n",
    "                       aggregation='mean')\n",
    "        return inputs\n",
    "    \n",
    "inputs = keras.Input(shape=(784,), name='digits')\n",
    "x = layers.Dense(64, activation='relu', name='dense_1')(inputs)\n",
    "\n",
    "x = MetricLoggingLayer()(x)\n",
    "\n",
    "x = layers.Dense(64, activation='relu', name='dense_2')(x)\n",
    "outputs = layers.Dense(10, activation='softmax', name='predictions')(x)\n",
    "\n",
    "model = keras.Model(inputs=inputs, outputs=outputs)\n",
    "model.compile(optimizer=keras.optimizers.RMSprop(learning_rate=1e-3),\n",
    "              loss='sparse_categorical_crossentropy')\n",
    "model.fit(x_train, y_train,\n",
    "          batch_size=64,\n",
    "          epochs=1)"
   ]
  },
  {
   "cell_type": "code",
   "execution_count": 13,
   "metadata": {},
   "outputs": [
    {
     "name": "stdout",
     "output_type": "stream",
     "text": [
      "50000/50000 [==============================] - 3s 51us/sample - loss: 2.4700 - std_of_activation: 0.0018\n"
     ]
    },
    {
     "data": {
      "text/plain": [
       "<tensorflow.python.keras.callbacks.History at 0x29d8dad44e0>"
      ]
     },
     "execution_count": 13,
     "metadata": {},
     "output_type": "execute_result"
    }
   ],
   "source": [
    "inputs = keras.Input(shape=(784,), name='digits')\n",
    "x1 = layers.Dense(64, activation='relu', name='dense_1')(inputs)\n",
    "x2 = layers.Dense(64, activation='relu', name='dense_2')(x1)\n",
    "outputs = layers.Dense(10, activation='softmax', name='predictions')(x2)\n",
    "model = keras.Model(inputs=inputs, outputs=outputs)\n",
    "\n",
    "model.add_loss(tf.reduce_sum(x1) * 0.1)\n",
    "\n",
    "model.add_metric(keras.backend.std(x1),\n",
    "                 name='std_of_activation',\n",
    "                 aggregation='mean')\n",
    "\n",
    "model.compile(optimizer=keras.optimizers.RMSprop(1e-3),\n",
    "              loss='sparse_categorical_crossentropy')\n",
    "model.fit(x_train, y_train,\n",
    "          batch_size=64,\n",
    "          epochs=1)"
   ]
  },
  {
   "cell_type": "markdown",
   "metadata": {},
   "source": [
    "#### Automatically setting apart a validation holdout set"
   ]
  },
  {
   "cell_type": "code",
   "execution_count": 14,
   "metadata": {},
   "outputs": [
    {
     "name": "stdout",
     "output_type": "stream",
     "text": [
      "Train on 40000 samples, validate on 10000 samples\n",
      "Epoch 1/3\n",
      "40000/40000 [==============================] - 2s 55us/sample - loss: 0.3677 - sparse_categorical_accuracy: 0.8943 - val_loss: 0.2555 - val_sparse_categorical_accuracy: 0.9231\n",
      "Epoch 2/3\n",
      "40000/40000 [==============================] - 2s 50us/sample - loss: 0.1747 - sparse_categorical_accuracy: 0.9482 - val_loss: 0.1739 - val_sparse_categorical_accuracy: 0.9473\n",
      "Epoch 3/3\n",
      "40000/40000 [==============================] - 2s 51us/sample - loss: 0.1281 - sparse_categorical_accuracy: 0.9620 - val_loss: 0.1533 - val_sparse_categorical_accuracy: 0.9561\n"
     ]
    },
    {
     "data": {
      "text/plain": [
       "<tensorflow.python.keras.callbacks.History at 0x29d8f2dedd8>"
      ]
     },
     "execution_count": 14,
     "metadata": {},
     "output_type": "execute_result"
    }
   ],
   "source": [
    "model = get_compiled_model()\n",
    "model.fit(x_train, y_train, batch_size=64, validation_split=0.2, epochs=3)"
   ]
  },
  {
   "cell_type": "markdown",
   "metadata": {},
   "source": [
    "### C. Training & Evaluation from tf.data Datasets"
   ]
  },
  {
   "cell_type": "code",
   "execution_count": 15,
   "metadata": {},
   "outputs": [
    {
     "name": "stdout",
     "output_type": "stream",
     "text": [
      "Epoch 1/3\n",
      "782/782 [==============================] - 3s 4ms/step - loss: 0.3452 - sparse_categorical_accuracy: 0.9041\n",
      "Epoch 2/3\n",
      "782/782 [==============================] - 3s 4ms/step - loss: 0.1604 - sparse_categorical_accuracy: 0.9536\n",
      "Epoch 3/3\n",
      "782/782 [==============================] - 3s 4ms/step - loss: 0.1164 - sparse_categorical_accuracy: 0.9657\n",
      "157/157 [==============================] - 1s 3ms/step - loss: 0.1270 - sparse_categorical_accuracy: 0.9624\n"
     ]
    },
    {
     "data": {
      "text/plain": [
       "[0.12702555187079154, 0.9624]"
      ]
     },
     "execution_count": 15,
     "metadata": {},
     "output_type": "execute_result"
    }
   ],
   "source": [
    "model = get_compiled_model()\n",
    "\n",
    "train_dataset = tf.data.Dataset.from_tensor_slices((x_train, y_train))\n",
    "train_dataset = train_dataset.shuffle(buffer_size=1024).batch(64)\n",
    "\n",
    "test_dataset = tf.data.Dataset.from_tensor_slices((x_test, y_test))\n",
    "test_dataset = test_dataset.batch(64)\n",
    "\n",
    "model.fit(train_dataset, epochs=3)\n",
    "\n",
    "model.evaluate(test_dataset)"
   ]
  },
  {
   "cell_type": "code",
   "execution_count": 16,
   "metadata": {},
   "outputs": [
    {
     "name": "stdout",
     "output_type": "stream",
     "text": [
      "Epoch 1/3\n",
      "100/100 [==============================] - 1s 7ms/step - loss: 0.7505 - sparse_categorical_accuracy: 0.8034\n",
      "Epoch 2/3\n",
      "100/100 [==============================] - 0s 5ms/step - loss: 0.3243 - sparse_categorical_accuracy: 0.9081\n",
      "Epoch 3/3\n",
      "100/100 [==============================] - 1s 5ms/step - loss: 0.2517 - sparse_categorical_accuracy: 0.9283\n"
     ]
    },
    {
     "data": {
      "text/plain": [
       "<tensorflow.python.keras.callbacks.History at 0x29d8f7c3860>"
      ]
     },
     "execution_count": 16,
     "metadata": {},
     "output_type": "execute_result"
    }
   ],
   "source": [
    "model = get_compiled_model()\n",
    "\n",
    "train_dataset = tf.data.Dataset.from_tensor_slices((x_train, y_train))\n",
    "train_dataset = train_dataset.shuffle(buffer_size=1024).batch(64)\n",
    "\n",
    "model.fit(train_dataset.take(100), epochs=3)"
   ]
  },
  {
   "cell_type": "code",
   "execution_count": 17,
   "metadata": {},
   "outputs": [
    {
     "name": "stdout",
     "output_type": "stream",
     "text": [
      "Epoch 1/3\n",
      "782/782 [==============================] - 4s 6ms/step - loss: 0.3396 - sparse_categorical_accuracy: 0.9045 - val_loss: 0.1949 - val_sparse_categorical_accuracy: 0.9411\n",
      "Epoch 2/3\n",
      "782/782 [==============================] - 3s 4ms/step - loss: 0.1569 - sparse_categorical_accuracy: 0.9532 - val_loss: 0.1395 - val_sparse_categorical_accuracy: 0.9584\n",
      "Epoch 3/3\n",
      "782/782 [==============================] - 3s 4ms/step - loss: 0.1141 - sparse_categorical_accuracy: 0.9661 - val_loss: 0.1220 - val_sparse_categorical_accuracy: 0.9648\n"
     ]
    },
    {
     "data": {
      "text/plain": [
       "<tensorflow.python.keras.callbacks.History at 0x29c5f225320>"
      ]
     },
     "execution_count": 17,
     "metadata": {},
     "output_type": "execute_result"
    }
   ],
   "source": [
    "model = get_compiled_model()\n",
    "\n",
    "train_dataset = tf.data.Dataset.from_tensor_slices((x_train, y_train))\n",
    "train_dataset = train_dataset.shuffle(buffer_size=1024).batch(64)\n",
    "\n",
    "val_dataset = tf.data.Dataset.from_tensor_slices((x_val, y_val))\n",
    "val_dataset = val_dataset.batch(64)\n",
    "\n",
    "model.fit(train_dataset, epochs=3, validation_data=val_dataset)"
   ]
  },
  {
   "cell_type": "code",
   "execution_count": 18,
   "metadata": {},
   "outputs": [
    {
     "name": "stdout",
     "output_type": "stream",
     "text": [
      "Epoch 1/3\n",
      "782/782 [==============================] - 4s 5ms/step - loss: 0.3388 - sparse_categorical_accuracy: 0.9041 - val_loss: 0.2839 - val_sparse_categorical_accuracy: 0.9250\n",
      "Epoch 2/3\n",
      "782/782 [==============================] - 3s 4ms/step - loss: 0.1597 - sparse_categorical_accuracy: 0.9533 - val_loss: 0.2005 - val_sparse_categorical_accuracy: 0.9422\n",
      "Epoch 3/3\n",
      "782/782 [==============================] - 3s 4ms/step - loss: 0.1160 - sparse_categorical_accuracy: 0.9655 - val_loss: 0.1717 - val_sparse_categorical_accuracy: 0.9469\n"
     ]
    },
    {
     "data": {
      "text/plain": [
       "<tensorflow.python.keras.callbacks.History at 0x29d91e40780>"
      ]
     },
     "execution_count": 18,
     "metadata": {},
     "output_type": "execute_result"
    }
   ],
   "source": [
    "model = get_compiled_model()\n",
    "\n",
    "train_dataset = tf.data.Dataset.from_tensor_slices((x_train, y_train))\n",
    "train_dataset = train_dataset.shuffle(buffer_size=1024).batch(64)\n",
    "\n",
    "val_dataset = tf.data.Dataset.from_tensor_slices((x_val, y_val))\n",
    "val_dataset = val_dataset.batch(64)\n",
    "\n",
    "model.fit(train_dataset, epochs=3, validation_data=val_dataset,\n",
    "         validation_steps=10)"
   ]
  },
  {
   "cell_type": "markdown",
   "metadata": {},
   "source": [
    "### D. Other input formats supported"
   ]
  },
  {
   "cell_type": "markdown",
   "metadata": {},
   "source": [
    "### E. Using sample weighting and class weighting\n",
    "\n",
    "- When training from Numpy data: via the <b>sample_weight</b> and <b>class_weight</b> arguments.\n",
    "- When training from Datasets: by having the Dataset return a tuple (input_batch, target_batch, sample_weight_batch) ."
   ]
  },
  {
   "cell_type": "code",
   "execution_count": 19,
   "metadata": {},
   "outputs": [
    {
     "name": "stdout",
     "output_type": "stream",
     "text": [
      "Epoch 1/4\n",
      "50000/50000 [==============================] - 3s 52us/sample - loss: 0.1008 - sparse_categorical_accuracy: 0.9719\n",
      "Epoch 2/4\n",
      "50000/50000 [==============================] - 2s 43us/sample - loss: 0.0844 - sparse_categorical_accuracy: 0.9759\n",
      "Epoch 3/4\n",
      "50000/50000 [==============================] - 3s 50us/sample - loss: 0.0724 - sparse_categorical_accuracy: 0.9797\n",
      "Epoch 4/4\n",
      "50000/50000 [==============================] - 3s 54us/sample - loss: 0.0633 - sparse_categorical_accuracy: 0.9823\n",
      "(50000,)\n",
      "Epoch 1/4\n",
      "50000/50000 [==============================] - 2s 43us/sample - loss: 0.3759 - sparse_categorical_accuracy: 0.9018\n",
      "Epoch 2/4\n",
      "50000/50000 [==============================] - 2s 43us/sample - loss: 0.1768 - sparse_categorical_accuracy: 0.9525\n",
      "Epoch 3/4\n",
      "50000/50000 [==============================] - 2s 45us/sample - loss: 0.1304 - sparse_categorical_accuracy: 0.9641\n",
      "Epoch 4/4\n",
      "50000/50000 [==============================] - 2s 50us/sample - loss: 0.1039 - sparse_categorical_accuracy: 0.9714\n"
     ]
    },
    {
     "data": {
      "text/plain": [
       "<tensorflow.python.keras.callbacks.History at 0x29d9513beb8>"
      ]
     },
     "execution_count": 19,
     "metadata": {},
     "output_type": "execute_result"
    }
   ],
   "source": [
    "import numpy as np\n",
    "\n",
    "class_weight = {0:1., 1:1., 2:1., 3:1., 4:1.,\n",
    "               5:2., 6:1., 7:1., 8:1., 9:1.}\n",
    "model.fit(x_train, y_train, class_weight=class_weight,\n",
    "         batch_size=64,\n",
    "         epochs=4)\n",
    "\n",
    "sample_weight = np.ones(shape=(len(y_train),))\n",
    "print(sample_weight.shape)\n",
    "sample_weight[y_train == 5] = 2\n",
    "\n",
    "model = get_compiled_model() \n",
    "model.fit(x_train, y_train,\n",
    "         sample_weight=sample_weight,\n",
    "         batch_size=64,\n",
    "         epochs=4)"
   ]
  },
  {
   "cell_type": "code",
   "execution_count": 20,
   "metadata": {},
   "outputs": [
    {
     "name": "stdout",
     "output_type": "stream",
     "text": [
      "Epoch 1/3\n",
      "782/782 [==============================] - 3s 4ms/step - loss: 0.3605 - sparse_categorical_accuracy: 0.9057\n",
      "Epoch 2/3\n",
      "782/782 [==============================] - 3s 4ms/step - loss: 0.1683 - sparse_categorical_accuracy: 0.9537\n",
      "Epoch 3/3\n",
      "782/782 [==============================] - 3s 4ms/step - loss: 0.1234 - sparse_categorical_accuracy: 0.9662\n"
     ]
    },
    {
     "data": {
      "text/plain": [
       "<tensorflow.python.keras.callbacks.History at 0x29d93af5390>"
      ]
     },
     "execution_count": 20,
     "metadata": {},
     "output_type": "execute_result"
    }
   ],
   "source": [
    "sample_weight = np.ones(shape=(len(y_train),))\n",
    "sample_weight[y_train == 5] = 2.\n",
    "\n",
    "train_dataset = tf.data.Dataset.from_tensor_slices((x_train, y_train, sample_weight))\n",
    "train_dataset = train_dataset.shuffle(buffer_size=1024).batch(64)\n",
    "\n",
    "model = get_compiled_model()\n",
    "model.fit(train_dataset, epochs=3)"
   ]
  },
  {
   "cell_type": "markdown",
   "metadata": {},
   "source": [
    "### F. Passing data to multi-input, multi-output models"
   ]
  },
  {
   "cell_type": "code",
   "execution_count": 21,
   "metadata": {},
   "outputs": [],
   "source": [
    "image_input = keras.Input(shape=(32,32,3), name='img_input')\n",
    "timeseries_input= keras.Input(shape=(None, 10), name='ts_input')\n",
    "\n",
    "x1 = layers.Conv2D(3,3)(image_input)\n",
    "x1 = layers.GlobalMaxPooling2D()(x1)\n",
    "\n",
    "x2 = layers.Conv1D(3,3)(timeseries_input)\n",
    "x2 = layers.GlobalMaxPooling1D()(x2)\n",
    "\n",
    "x = layers.concatenate([x1,x2])\n",
    "\n",
    "score_output = layers.Dense(1, name='score_output')(x)\n",
    "class_output = layers.Dense(5, activation='softmax', name='class_output')(x)\n",
    "\n",
    "model = keras.Model(inputs=[image_input, timeseries_input],\n",
    "                   outputs = [score_output, class_output])"
   ]
  },
  {
   "cell_type": "code",
   "execution_count": 22,
   "metadata": {},
   "outputs": [
    {
     "data": {
      "image/png": "[encoded data removed]",
      "text/plain": [
       "<IPython.core.display.Image object>"
      ]
     },
     "execution_count": 22,
     "metadata": {},
     "output_type": "execute_result"
    }
   ],
   "source": [
    "keras.utils.plot_model(model, 'multi_input_and_output_model.png', show_shapes=True)"
   ]
  },
  {
   "cell_type": "code",
   "execution_count": 23,
   "metadata": {},
   "outputs": [],
   "source": [
    "model.compile(optimizer = keras.optimizers.RMSprop(1e-3),\n",
    "             loss = [keras.losses.MeanAbsoluteError(),\n",
    "                    keras.losses.CategoricalCrossentropy()])"
   ]
  },
  {
   "cell_type": "code",
   "execution_count": 24,
   "metadata": {},
   "outputs": [],
   "source": [
    "model.compile(\n",
    "    optimizer=keras.optimizers.RMSprop(1e-3),\n",
    "    loss=[keras.losses.MeanSquaredError(),\n",
    "          keras.losses.CategoricalCrossentropy()],\n",
    "    metrics=[[keras.metrics.MeanAbsolutePercentageError(),\n",
    "             keras.metrics.MeanAbsoluteError()],\n",
    "            [keras.metrics.CategoricalAccuracy()]])"
   ]
  },
  {
   "cell_type": "code",
   "execution_count": 25,
   "metadata": {},
   "outputs": [],
   "source": [
    "model.compile(\n",
    "    optimizer=keras.optimizers.RMSprop(1e-3),\n",
    "    loss={'score_output': keras.losses.MeanSquaredError(),\n",
    "          'class_output': keras.losses.CategoricalCrossentropy()},\n",
    "    metrics={'score_output': [keras.metrics.MeanAbsolutePercentageError(),\n",
    "                              keras.metrics.MeanAbsoluteError()],\n",
    "             'class_output': [keras.metrics.CategoricalAccuracy()]})"
   ]
  },
  {
   "cell_type": "code",
   "execution_count": 26,
   "metadata": {},
   "outputs": [],
   "source": [
    "model.compile(\n",
    "    optimizer=keras.optimizers.RMSprop(1e-3),\n",
    "    loss={'score_output': keras.losses.MeanSquaredError(),\n",
    "          'class_output': keras.losses.CategoricalCrossentropy()},\n",
    "    metrics={'score_output': [keras.metrics.MeanAbsolutePercentageError(),\n",
    "                              keras.metrics.MeanAbsoluteError()],\n",
    "             'class_output': [keras.metrics.CategoricalAccuracy()]},\n",
    "    loss_weight={'score_output':2., 'class_output':1.})"
   ]
  },
  {
   "cell_type": "code",
   "execution_count": 27,
   "metadata": {},
   "outputs": [],
   "source": [
    "model.compile(\n",
    "    optimizer=keras.optimizers.RMSprop(1e-3),\n",
    "    loss=[None, keras.losses.CategoricalCrossentropy()])"
   ]
  },
  {
   "cell_type": "code",
   "execution_count": 28,
   "metadata": {},
   "outputs": [
    {
     "name": "stderr",
     "output_type": "stream",
     "text": [
      "WARNING: Logging before flag parsing goes to stderr.\n",
      "W0520 17:50:16.269272  9756 training_utils.py:1152] Output score_output missing from loss dictionary. We assume this was done on purpose. The fit and evaluate APIs will not be expecting any data to be passed to score_output.\n"
     ]
    }
   ],
   "source": [
    "model.compile(\n",
    "    optimizer=keras.optimizers.RMSprop(1e-3),\n",
    "    loss={'class_output': keras.losses.CategoricalCrossentropy()})"
   ]
  },
  {
   "cell_type": "code",
   "execution_count": 29,
   "metadata": {},
   "outputs": [
    {
     "name": "stdout",
     "output_type": "stream",
     "text": [
      "Epoch 1/3\n",
      "100/100 [==============================] - 3s 26ms/sample - loss: 11.9035 - score_output_loss: 6.6240 - class_output_loss: 5.2796\n",
      "Epoch 2/3\n",
      "100/100 [==============================] - 0s 239us/sample - loss: 10.2060 - score_output_loss: 5.0303 - class_output_loss: 5.1757\n",
      "Epoch 3/3\n",
      "100/100 [==============================] - 0s 309us/sample - loss: 9.1926 - score_output_loss: 4.0783 - class_output_loss: 5.1144\n",
      "Epoch 1/3\n",
      "100/100 [==============================] - 0s 1ms/sample - loss: 8.4436 - score_output_loss: 3.3949 - class_output_loss: 5.0487\n",
      "Epoch 2/3\n",
      "100/100 [==============================] - 0s 957us/sample - loss: 7.7952 - score_output_loss: 2.8684 - class_output_loss: 4.9268\n",
      "Epoch 3/3\n",
      "100/100 [==============================] - 0s 858us/sample - loss: 7.2327 - score_output_loss: 2.4040 - class_output_loss: 4.8287\n"
     ]
    },
    {
     "data": {
      "text/plain": [
       "<tensorflow.python.keras.callbacks.History at 0x29d9763a6a0>"
      ]
     },
     "execution_count": 29,
     "metadata": {},
     "output_type": "execute_result"
    }
   ],
   "source": [
    "model.compile(\n",
    "    optimizer=keras.optimizers.RMSprop(1e-3),\n",
    "    loss=[keras.losses.MeanSquaredError(),\n",
    "          keras.losses.CategoricalCrossentropy()])\n",
    "\n",
    "img_data = np.random.random_sample(size=(100, 32, 32, 3))\n",
    "ts_data = np.random.random_sample(size=(100, 20, 10))\n",
    "score_targets = np.random.random_sample(size=(100, 1))\n",
    "class_targets = np.random.random_sample(size=(100, 5))\n",
    "\n",
    "model.fit([img_data, ts_data], [score_targets, class_targets],\n",
    "         batch_size=32,\n",
    "         epochs=3)\n",
    "\n",
    "model.fit({'img_input':img_data, 'ts_input':ts_data},\n",
    "         {'score_output':score_targets, 'class_output':class_targets},\n",
    "         batch_size=32,\n",
    "         epochs=3)"
   ]
  },
  {
   "cell_type": "code",
   "execution_count": 30,
   "metadata": {},
   "outputs": [
    {
     "name": "stdout",
     "output_type": "stream",
     "text": [
      "Epoch 1/3\n",
      "2/2 [==============================] - 0s 41ms/step - loss: 6.7577 - score_output_loss: 2.0758 - class_output_loss: 4.7528\n",
      "Epoch 2/3\n",
      "2/2 [==============================] - 0s 25ms/step - loss: 6.5387 - score_output_loss: 1.8934 - class_output_loss: 4.7142\n",
      "Epoch 3/3\n",
      "2/2 [==============================] - 0s 23ms/step - loss: 6.3329 - score_output_loss: 1.7234 - class_output_loss: 4.6765\n"
     ]
    },
    {
     "data": {
      "text/plain": [
       "<tensorflow.python.keras.callbacks.History at 0x29d93534cf8>"
      ]
     },
     "execution_count": 30,
     "metadata": {},
     "output_type": "execute_result"
    }
   ],
   "source": [
    "train_dataset = tf.data.Dataset.from_tensor_slices(\n",
    "    ({'img_input': img_data, 'ts_input': ts_data},\n",
    "     {'score_output': score_targets, 'class_output': class_targets}))\n",
    "train_dataset = train_dataset.shuffle(buffer_size=1024).batch(64)\n",
    "\n",
    "model.fit(train_dataset, epochs=3)"
   ]
  },
  {
   "cell_type": "markdown",
   "metadata": {},
   "source": [
    "### G. Using callbacks\n",
    "\n",
    "- Doing validation at different points during training (beyond the built-in per-epoch validation)\n",
    "- Checkpointing the model at regular intervals or when it exceeds a certain accuracy threshold\n",
    "- Changing the learning rate of the model when training seems to be plateauing\n",
    "- Doing fine-tuning of the top layers when training seems to be plateauing\n",
    "- Sending email or instant message notifications when training ends or where a certain performance threshold is exceeded\n",
    "- Etc."
   ]
  },
  {
   "cell_type": "code",
   "execution_count": 31,
   "metadata": {},
   "outputs": [
    {
     "name": "stdout",
     "output_type": "stream",
     "text": [
      "Train on 40000 samples, validate on 10000 samples\n",
      "Epoch 1/20\n",
      "40000/40000 [==============================] - 2s 57us/sample - loss: 0.3669 - sparse_categorical_accuracy: 0.8968 - val_loss: 0.2449 - val_sparse_categorical_accuracy: 0.9258\n",
      "Epoch 2/20\n",
      "40000/40000 [==============================] - 2s 51us/sample - loss: 0.1737 - sparse_categorical_accuracy: 0.9497 - val_loss: 0.1774 - val_sparse_categorical_accuracy: 0.9474\n",
      "Epoch 3/20\n",
      "40000/40000 [==============================] - 2s 50us/sample - loss: 0.1270 - sparse_categorical_accuracy: 0.9612 - val_loss: 0.1554 - val_sparse_categorical_accuracy: 0.9541\n",
      "Epoch 4/20\n",
      "40000/40000 [==============================] - 2s 50us/sample - loss: 0.1006 - sparse_categorical_accuracy: 0.9699 - val_loss: 0.1487 - val_sparse_categorical_accuracy: 0.9580\n",
      "Epoch 5/20\n",
      "40000/40000 [==============================] - 2s 51us/sample - loss: 0.0834 - sparse_categorical_accuracy: 0.9758 - val_loss: 0.1371 - val_sparse_categorical_accuracy: 0.9612\n",
      "Epoch 6/20\n",
      "40000/40000 [==============================] - 2s 53us/sample - loss: 0.0713 - sparse_categorical_accuracy: 0.9787 - val_loss: 0.1385 - val_sparse_categorical_accuracy: 0.9607\n",
      "Epoch 7/20\n",
      "40000/40000 [==============================] - 2s 54us/sample - loss: 0.0605 - sparse_categorical_accuracy: 0.9822 - val_loss: 0.1357 - val_sparse_categorical_accuracy: 0.9638\n",
      "Epoch 8/20\n",
      "40000/40000 [==============================] - 2s 54us/sample - loss: 0.0533 - sparse_categorical_accuracy: 0.9839 - val_loss: 0.1315 - val_sparse_categorical_accuracy: 0.9635\n",
      "Epoch 9/20\n",
      "40000/40000 [==============================] - 2s 53us/sample - loss: 0.0464 - sparse_categorical_accuracy: 0.9851 - val_loss: 0.1312 - val_sparse_categorical_accuracy: 0.9648\n",
      "Epoch 10/20\n",
      "40000/40000 [==============================] - 2s 56us/sample - loss: 0.0405 - sparse_categorical_accuracy: 0.9879 - val_loss: 0.1424 - val_sparse_categorical_accuracy: 0.9635\n",
      "Epoch 00010: early stopping\n"
     ]
    },
    {
     "data": {
      "text/plain": [
       "<tensorflow.python.keras.callbacks.History at 0x29d9d9b7e48>"
      ]
     },
     "execution_count": 31,
     "metadata": {},
     "output_type": "execute_result"
    }
   ],
   "source": [
    "model = get_compiled_model()\n",
    "\n",
    "callbakcs = [keras.callbacks.EarlyStopping(\n",
    "            monitor='val_loss',\n",
    "            min_delta=1e-2,\n",
    "            patience=5,\n",
    "            verbose=1)\n",
    "]\n",
    "\n",
    "model.fit(x_train, y_train,\n",
    "         epochs=20,\n",
    "         batch_size=64,\n",
    "         callbacks=callbakcs,\n",
    "         validation_split=0.2)"
   ]
  },
  {
   "cell_type": "markdown",
   "metadata": {},
   "source": [
    "#### Many built-in callbacks are available\n",
    "\n",
    "- ModelCheckpoint: Periodically save the model.\n",
    "- EarlyStopping: Stop training when training is no longer improving the validation metrics.\n",
    "- TensorBoard: periodically write model logs that can be visualized in TensorBoard (more details in the section \"Visualization\").\n",
    "- CSVLogger: streams loss and metrics data to a CSV file.\n",
    "- etc."
   ]
  },
  {
   "cell_type": "markdown",
   "metadata": {},
   "source": [
    "#### Writing your own callback"
   ]
  },
  {
   "cell_type": "code",
   "execution_count": 32,
   "metadata": {},
   "outputs": [],
   "source": [
    "class LossHistory(keras.callbacks.Callback):\n",
    "    def on_train_begin(self, logs):\n",
    "        self.losses = []\n",
    "        \n",
    "    def on_batch_end(self, batch, logs):\n",
    "        self.losses.append(logs.get('loss'))"
   ]
  },
  {
   "cell_type": "markdown",
   "metadata": {},
   "source": [
    "### H. Checkpointing models"
   ]
  },
  {
   "cell_type": "code",
   "execution_count": 33,
   "metadata": {},
   "outputs": [
    {
     "name": "stdout",
     "output_type": "stream",
     "text": [
      "Train on 40000 samples, validate on 10000 samples\n",
      "Epoch 1/3\n",
      "39808/40000 [============================>.] - ETA: 0s - loss: 0.3720 - sparse_categorical_accuracy: 0.8970\n",
      "Epoch 00001: val_loss improved from inf to 0.24101, saving model to mymodel_1.h5\n",
      "40000/40000 [==============================] - 2s 62us/sample - loss: 0.3713 - sparse_categorical_accuracy: 0.8971 - val_loss: 0.2410 - val_sparse_categorical_accuracy: 0.9288\n",
      "Epoch 2/3\n",
      "39360/40000 [============================>.] - ETA: 0s - loss: 0.1749 - sparse_categorical_accuracy: 0.9492\n",
      "Epoch 00002: val_loss improved from 0.24101 to 0.18052, saving model to mymodel_2.h5\n",
      "40000/40000 [==============================] - 2s 61us/sample - loss: 0.1746 - sparse_categorical_accuracy: 0.9492 - val_loss: 0.1805 - val_sparse_categorical_accuracy: 0.9450\n",
      "Epoch 3/3\n",
      "38976/40000 [============================>.] - ETA: 0s - loss: 0.1279 - sparse_categorical_accuracy: 0.9614\n",
      "Epoch 00003: val_loss improved from 0.18052 to 0.15990, saving model to mymodel_3.h5\n",
      "40000/40000 [==============================] - 2s 58us/sample - loss: 0.1280 - sparse_categorical_accuracy: 0.9613 - val_loss: 0.1599 - val_sparse_categorical_accuracy: 0.9534\n"
     ]
    },
    {
     "data": {
      "text/plain": [
       "<tensorflow.python.keras.callbacks.History at 0x29c712a1e48>"
      ]
     },
     "execution_count": 33,
     "metadata": {},
     "output_type": "execute_result"
    }
   ],
   "source": [
    "model = get_compiled_model()\n",
    "\n",
    "callbacks = [\n",
    "    keras.callbacks.ModelCheckpoint(\n",
    "    filepath='mymodel_{epoch}.h5',\n",
    "    save_best_only = True,\n",
    "    monitor='val_loss',\n",
    "    verbose=1)\n",
    "]\n",
    "\n",
    "model.fit(x_train, y_train,\n",
    "         epochs=3,\n",
    "         batch_size=64,\n",
    "         callbacks=callbacks,\n",
    "         validation_split=0.2)"
   ]
  },
  {
   "cell_type": "markdown",
   "metadata": {},
   "source": [
    "### I. Using learning rate schedules\n",
    "\n",
    "ExponentialDecay, PiecewiseConstantDecay, PolynomialDecay, and InverseTimeDecay."
   ]
  },
  {
   "cell_type": "code",
   "execution_count": 34,
   "metadata": {},
   "outputs": [],
   "source": [
    "initial_learning_rate=0.1\n",
    "lr_schedule = keras.optimizers.schedules.ExponentialDecay(\n",
    "initial_learning_rate,\n",
    "decay_steps = 100000,\n",
    "decay_rate = 0.96,\n",
    "staircase=True)\n",
    "\n",
    "optimizer = keras.optimizers.RMSprop(learning_rate=lr_schedule)"
   ]
  },
  {
   "cell_type": "markdown",
   "metadata": {},
   "source": [
    "### J. Visualizing loss and metrics during training\n",
    "\n",
    "command : tensorboard --logdir =/full_path_to_your_log"
   ]
  },
  {
   "cell_type": "code",
   "execution_count": 35,
   "metadata": {},
   "outputs": [],
   "source": [
    "tensorboard_cbk = keras.callbacks.TensorBoard(log_dir='full_path_to_your_logs')\n",
    "# model.fit(dataset, epochs=10, callbacks=[tensorboard_cbk])"
   ]
  },
  {
   "cell_type": "code",
   "execution_count": 36,
   "metadata": {},
   "outputs": [
    {
     "data": {
      "text/plain": [
       "<tensorflow.python.keras.callbacks.TensorBoard at 0x29c710d6fd0>"
      ]
     },
     "execution_count": 36,
     "metadata": {},
     "output_type": "execute_result"
    }
   ],
   "source": [
    "keras.callbacks.TensorBoard(\n",
    "log_dir='/full_path_to_your_logs',\n",
    "histogram_freq=0,\n",
    "embeddings_freq=0,\n",
    "update_freq='epoch')"
   ]
  },
  {
   "cell_type": "markdown",
   "metadata": {},
   "source": [
    "## 3. Part 2: Writing your own training & Evaluation loops from scratch\n",
    "### A. Using the GradientTape: a first end-to-end example"
   ]
  },
  {
   "cell_type": "code",
   "execution_count": 37,
   "metadata": {},
   "outputs": [
    {
     "name": "stdout",
     "output_type": "stream",
     "text": [
      "Start of epoch 0\n",
      "Training loss (for one batch) at stpe 0: 2.428679943084717\n",
      "Seen so far: 64 smaples\n",
      "Training loss (for one batch) at stpe 200: 2.248087167739868\n",
      "Seen so far: 12864 smaples\n",
      "Training loss (for one batch) at stpe 400: 2.156125783920288\n",
      "Seen so far: 25664 smaples\n",
      "Training loss (for one batch) at stpe 600: 2.1228489875793457\n",
      "Seen so far: 38464 smaples\n",
      "Start of epoch 1\n",
      "Training loss (for one batch) at stpe 0: 2.0427358150482178\n",
      "Seen so far: 64 smaples\n",
      "Training loss (for one batch) at stpe 200: 1.9571168422698975\n",
      "Seen so far: 12864 smaples\n",
      "Training loss (for one batch) at stpe 400: 1.85723876953125\n",
      "Seen so far: 25664 smaples\n",
      "Training loss (for one batch) at stpe 600: 1.8082513809204102\n",
      "Seen so far: 38464 smaples\n",
      "Start of epoch 2\n",
      "Training loss (for one batch) at stpe 0: 1.6725893020629883\n",
      "Seen so far: 64 smaples\n",
      "Training loss (for one batch) at stpe 200: 1.6030149459838867\n",
      "Seen so far: 12864 smaples\n",
      "Training loss (for one batch) at stpe 400: 1.5028719902038574\n",
      "Seen so far: 25664 smaples\n",
      "Training loss (for one batch) at stpe 600: 1.4519637823104858\n",
      "Seen so far: 38464 smaples\n"
     ]
    }
   ],
   "source": [
    "inputs = keras.Input(shape=(784,), name='digits')\n",
    "x = layers.Dense(64, activation='relu', name='dense_1')(inputs)\n",
    "x = layers.Dense(64, activation='relu', name='dense_2')(x)\n",
    "outputs = layers.Dense(10, activation='softmax', name='predictions')(x)\n",
    "model = keras.Model(inputs = inputs, outputs = outputs)\n",
    "\n",
    "optimizer = keras.optimizers.SGD(1e-3)\n",
    "loss_fn = keras.losses.SparseCategoricalCrossentropy()\n",
    "\n",
    "batch_size =64\n",
    "train_dataset = tf.data.Dataset.from_tensor_slices((x_train, y_train))\n",
    "train_dataset = train_dataset.shuffle(buffer_size=1024).batch(batch_size)\n",
    "\n",
    "for epoch in range(3):\n",
    "    print('Start of epoch %d' % (epoch,))\n",
    "    \n",
    "    for step, (x_batch_train, y_batch_train) in enumerate(train_dataset):\n",
    "        with tf.GradientTape() as tape:\n",
    "            logits = model(x_batch_train)\n",
    "            loss_value = loss_fn(y_batch_train, logits)\n",
    "            \n",
    "        grads = tape.gradient(loss_value, model.trainable_variables)\n",
    "        optimizer.apply_gradients(zip(grads, model.trainable_variables))\n",
    "        \n",
    "        if step % 200 ==0:\n",
    "            print('Training loss (for one batch) at stpe %s: %s' %(step, float(loss_value)))\n",
    "            print('Seen so far: %s smaples' % ((step+1) * 64))"
   ]
  },
  {
   "cell_type": "markdown",
   "metadata": {},
   "source": [
    "### B. Low-level handling of metrics\n",
    "\n",
    "- Instantiate the metric at the start of the loop\n",
    "- Call metric.update_state() after each batch\n",
    "- Call metric.result() when you need to display the current value of the metric\n",
    "- Call metric.reset_states() when you need to clear the state of the metric (typically at the end of an epoch)"
   ]
  },
  {
   "cell_type": "code",
   "execution_count": 38,
   "metadata": {},
   "outputs": [
    {
     "name": "stdout",
     "output_type": "stream",
     "text": [
      "Start of epoch 0\n",
      "Training loss (for one batch) at stpe 0: 2.342512369155884\n",
      "Seen so far: 64 smaples\n",
      "Training loss (for one batch) at stpe 200: 2.2822394371032715\n",
      "Seen so far: 12864 smaples\n",
      "Training loss (for one batch) at stpe 400: 2.180750608444214\n",
      "Seen so far: 25664 smaples\n",
      "Training loss (for one batch) at stpe 600: 2.1453404426574707\n",
      "Seen so far: 38464 smaples\n",
      "Training acc over epoch:0.0\n",
      "Validation acc: 0.41370001435279846\n",
      "Start of epoch 1\n",
      "Training loss (for one batch) at stpe 0: 2.0403013229370117\n",
      "Seen so far: 64 smaples\n",
      "Training loss (for one batch) at stpe 200: 2.043172836303711\n",
      "Seen so far: 12864 smaples\n",
      "Training loss (for one batch) at stpe 400: 1.8778899908065796\n",
      "Seen so far: 25664 smaples\n",
      "Training loss (for one batch) at stpe 600: 1.810967206954956\n",
      "Seen so far: 38464 smaples\n",
      "Training acc over epoch:0.0\n",
      "Validation acc: 0.6065999865531921\n",
      "Start of epoch 2\n",
      "Training loss (for one batch) at stpe 0: 1.6580612659454346\n",
      "Seen so far: 64 smaples\n",
      "Training loss (for one batch) at stpe 200: 1.7176707983016968\n",
      "Seen so far: 12864 smaples\n",
      "Training loss (for one batch) at stpe 400: 1.4658410549163818\n",
      "Seen so far: 25664 smaples\n",
      "Training loss (for one batch) at stpe 600: 1.3988566398620605\n",
      "Seen so far: 38464 smaples\n",
      "Training acc over epoch:0.0\n",
      "Validation acc: 0.7179999947547913\n"
     ]
    }
   ],
   "source": [
    "inputs = keras.Input(shape=(784,), name='digits')\n",
    "x = layers.Dense(64, activation='relu', name='dense_1')(inputs)\n",
    "x = layers.Dense(64, activation='relu', name='dense_2')(x)\n",
    "outputs = layers.Dense(10, activation='softmax', name='predictions')(x)\n",
    "model = keras.Model(inputs = inputs, outputs = outputs)\n",
    "\n",
    "optimizer = keras.optimizers.SGD(1e-3)\n",
    "loss_fn = keras.losses.SparseCategoricalCrossentropy()\n",
    "\n",
    "train_acc_metric = keras.metrics.SparseCategoricalAccuracy()\n",
    "val_acc_metric = keras.metrics.SparseCategoricalAccuracy()\n",
    "\n",
    "batch_size =64\n",
    "train_dataset = tf.data.Dataset.from_tensor_slices((x_train, y_train))\n",
    "train_dataset = train_dataset.shuffle(buffer_size=1024).batch(batch_size)\n",
    "\n",
    "val_dataset = tf.data.Dataset.from_tensor_slices((x_val, y_val))\n",
    "val_dataset = val_dataset.batch(64)\n",
    "\n",
    "for epoch in range(3):\n",
    "    print('Start of epoch %d' % (epoch,))\n",
    "    \n",
    "    for step, (x_batch_train, y_batch_train) in enumerate(train_dataset):\n",
    "        with tf.GradientTape() as tape:\n",
    "            logits = model(x_batch_train)\n",
    "            loss_value = loss_fn(y_batch_train, logits)\n",
    "            \n",
    "        grads = tape.gradient(loss_value, model.trainable_variables)\n",
    "        optimizer.apply_gradients(zip(grads, model.trainable_variables))\n",
    "        \n",
    "        if step % 200 ==0:\n",
    "            print('Training loss (for one batch) at stpe %s: %s' %(step, float(loss_value)))\n",
    "            print('Seen so far: %s smaples' % ((step+1) * 64))\n",
    "            \n",
    "    train_acc = train_acc_metric.result()\n",
    "    print('Training acc over epoch:%s' % (float(train_acc)))\n",
    "    train_acc_metric.reset_states()\n",
    "    \n",
    "    for x_batch_val, y_batch_val in val_dataset:\n",
    "        val_logits = model(x_batch_val)\n",
    "        val_acc_metric(y_batch_val, val_logits)\n",
    "    val_acc = val_acc_metric.result()\n",
    "    val_acc_metric.reset_states()\n",
    "    print('Validation acc: %s' % (float(val_acc)))"
   ]
  },
  {
   "cell_type": "markdown",
   "metadata": {},
   "source": [
    "### C. Low-level handling of extra losses"
   ]
  },
  {
   "cell_type": "code",
   "execution_count": 39,
   "metadata": {},
   "outputs": [],
   "source": [
    "class ActivityRegularizationLayer(layers.Layer):\n",
    "    def call(self, inputs):\n",
    "        self.add_loss(1e-2 * tf.reduce_sum(inputs))\n",
    "        return inputs\n",
    "    \n",
    "inputs = keras.Input(shape=(784,), name='digits')\n",
    "x = layers.Dense(64, activation='relu', name='dense_1')(inputs)\n",
    "x = ActivityRegularizationLayer()(x)\n",
    "x = layers.Dense(64, activation='relu', name='dense_2')(x)\n",
    "outputs = layers.Dense(10, activation='softmax', name='predictions')(x)\n",
    "\n",
    "model = keras.Model(inputs=inputs, outputs=outputs)"
   ]
  },
  {
   "cell_type": "code",
   "execution_count": 40,
   "metadata": {},
   "outputs": [],
   "source": [
    "logits = model(x_train)"
   ]
  },
  {
   "cell_type": "code",
   "execution_count": 41,
   "metadata": {},
   "outputs": [
    {
     "name": "stdout",
     "output_type": "stream",
     "text": [
      "[<tf.Tensor: id=994301, shape=(), dtype=float32, numpy=7.2014074>]\n"
     ]
    }
   ],
   "source": [
    "logits = model(x_train[:64])\n",
    "print(model.losses)"
   ]
  },
  {
   "cell_type": "code",
   "execution_count": 42,
   "metadata": {},
   "outputs": [
    {
     "name": "stdout",
     "output_type": "stream",
     "text": [
      "[<tf.Tensor: id=994322, shape=(), dtype=float32, numpy=7.2014074>]\n",
      "[<tf.Tensor: id=994343, shape=(), dtype=float32, numpy=7.4445696>]\n",
      "[<tf.Tensor: id=994364, shape=(), dtype=float32, numpy=7.0779247>]\n"
     ]
    }
   ],
   "source": [
    "logits = model(x_train[:64])\n",
    "print(model.losses)\n",
    "logits = model(x_train[64: 128])\n",
    "print(model.losses)\n",
    "logits = model(x_train[128: 192])\n",
    "print(model.losses)"
   ]
  },
  {
   "cell_type": "code",
   "execution_count": 43,
   "metadata": {},
   "outputs": [
    {
     "name": "stdout",
     "output_type": "stream",
     "text": [
      "Start of epoch 0\n",
      "Training loss (for one batch) at stpe 0: 9.833614349365234\n",
      "Seen so far: 64 smaples\n",
      "Training loss (for one batch) at stpe 200: 2.479641914367676\n",
      "Seen so far: 12864 smaples\n",
      "Training loss (for one batch) at stpe 400: 2.3986103534698486\n",
      "Seen so far: 25664 smaples\n",
      "Training loss (for one batch) at stpe 600: 2.328179121017456\n",
      "Seen so far: 38464 smaples\n",
      "Start of epoch 1\n",
      "Training loss (for one batch) at stpe 0: 2.3242580890655518\n",
      "Seen so far: 64 smaples\n",
      "Training loss (for one batch) at stpe 200: 2.327312469482422\n",
      "Seen so far: 12864 smaples\n",
      "Training loss (for one batch) at stpe 400: 2.3308563232421875\n",
      "Seen so far: 25664 smaples\n",
      "Training loss (for one batch) at stpe 600: 2.310102701187134\n",
      "Seen so far: 38464 smaples\n",
      "Start of epoch 2\n",
      "Training loss (for one batch) at stpe 0: 2.309324264526367\n",
      "Seen so far: 64 smaples\n",
      "Training loss (for one batch) at stpe 200: 2.315451145172119\n",
      "Seen so far: 12864 smaples\n",
      "Training loss (for one batch) at stpe 400: 2.316736936569214\n",
      "Seen so far: 25664 smaples\n",
      "Training loss (for one batch) at stpe 600: 2.306243658065796\n",
      "Seen so far: 38464 smaples\n"
     ]
    }
   ],
   "source": [
    "optimizer = tf.keras.optimizers.SGD(1e-3)\n",
    "\n",
    "for epoch in range(3):\n",
    "    print('Start of epoch %d' % (epoch,))\n",
    "    \n",
    "    for step, (x_batch_train, y_batch_train) in enumerate(train_dataset):\n",
    "        with tf.GradientTape() as tape:\n",
    "            logits = model(x_batch_train)\n",
    "            loss_value = loss_fn(y_batch_train, logits)\n",
    "            loss_value += sum(model.losses)\n",
    "        grads = tape.gradient(loss_value, model.trainable_variables)\n",
    "        optimizer.apply_gradients(zip(grads, model.trainable_variables))\n",
    "        \n",
    "        if step % 200 ==0:\n",
    "            print('Training loss (for one batch) at stpe %s: %s' %(step, float(loss_value)))\n",
    "            print('Seen so far: %s smaples' % ((step+1) * 64))"
   ]
  }
 ],
 "metadata": {
  "kernelspec": {
   "display_name": "tf20a",
   "language": "python",
   "name": "tf20a"
  },
  "language_info": {
   "codemirror_mode": {
    "name": "ipython",
    "version": 3
   },
   "file_extension": ".py",
   "mimetype": "text/x-python",
   "name": "python",
   "nbconvert_exporter": "python",
   "pygments_lexer": "ipython3",
   "version": "3.6.8"
  }
 },
 "nbformat": 4,
 "nbformat_minor": 2
}
