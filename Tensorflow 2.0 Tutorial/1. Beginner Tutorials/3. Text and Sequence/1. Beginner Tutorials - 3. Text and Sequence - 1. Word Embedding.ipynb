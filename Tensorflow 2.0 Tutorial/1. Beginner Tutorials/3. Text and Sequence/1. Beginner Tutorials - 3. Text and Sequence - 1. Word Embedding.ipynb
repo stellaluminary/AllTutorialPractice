{
 "cells": [
  {
   "cell_type": "markdown",
   "metadata": {},
   "source": [
    "# 1. Beginner Tutorials - 3. Text and Sequence - 1. Word Embedding\n",
    "\n",
    "### 목차\n",
    "1. Representing text as numbers\n",
    " - One-hot encodings\n",
    " - Encode each word with a unique number\n",
    " - Word embeddings\n",
    "2. Using the Embedding layer\n",
    "3. Learning embeddings from scratch\n",
    " - Convert the integers back to words\n",
    " - Create a simple model\n",
    " - Compile and train the model\n",
    "4. Retrieve the learned embeddings\n",
    "5. Visualize the embeddings"
   ]
  },
  {
   "cell_type": "markdown",
   "metadata": {},
   "source": [
    "Embedding projector : http://projector.tensorflow.org/"
   ]
  },
  {
   "cell_type": "markdown",
   "metadata": {},
   "source": [
    "embed 1. (단단히) 박다   2. (종군 기자·사진 기자 등을) 파견하다<br>\n",
    "embedding 어떤 위상(位相) 공간에서 다른 위상 공간으로의 동상 사상(同相寫像).<br>"
   ]
  },
  {
   "cell_type": "markdown",
   "metadata": {},
   "source": [
    "# 1. Representing text as numbers\n",
    "\n",
    "Machine learning models take vectors (arrays of numbers) as input.<br>\n",
    "When working with text, the first thing ... strategy to __convert strings to numbers__<br>\n",
    "\n",
    "## 1-1 One-hot encodings\n",
    "### First Approach\n",
    "|--|cat|mat|on|sat|the|\n",
    "|--|--|--|--|--|--|\n",
    "|the|0|0|0|0|1|\n",
    "|cat|1|0|0|0|0|\n",
    "|sat|0|0|0|1|0|\n",
    "\n",
    "A one-hot encoded vector is sparse.<br>\n",
    "we would create a vector where 99.99% of the elements are zero<br>\n",
    "\n",
    "## 1-2 Encode each word with a unique number\n",
    "### Second Approach\n",
    "\n",
    "...encode each word using a unique number.<br>\n",
    "...assign 1 to \"cat\", 2 to \"mat\", <br>\n",
    "This appoach is efficient.  ... have a dense one (where all elements are full).<br>\n",
    "\n",
    "### two downsides \n",
    "- The integer-encoding is arbitrary (it does not capture any relationship between words).\n",
    "- An integer-encoding can be challenging for a model to interpret. \n",
    "\n",
    "## 1-3 Word embeddings\n",
    "### Third Approach (Best)\n",
    "\n",
    "...an efficient, dense representation...we do not have to specify this encoding by hand.<br>\n",
    "An embedding is a dense vector of floating point values ...trainable parameters <br>\n",
    "...8-dimensional (for small datasets), up to 1024-dimensions (for large datasets)<br>\n",
    "A higher dimensional embedding can capture fine-grained relationships between words, <br>\n",
    "but takes more data to learn.<br>\n",
    "\n",
    "|--|--|--|--|--|\n",
    "|--|--|--|--|--|\n",
    "|the|1.2|-0.1|4.3|3.2|\n",
    "|cat|1.2|0.2|-0.9|-0.5|\n",
    "|sat|2.1|0.3|0.1|1.2|\n",
    "\n",
    " Each word is represented as a 4-dimensional vector of floating point values."
   ]
  },
  {
   "cell_type": "markdown",
   "metadata": {},
   "source": [
    "# 2. Using the Embedding layer"
   ]
  },
  {
   "cell_type": "code",
   "execution_count": 1,
   "metadata": {},
   "outputs": [],
   "source": [
    "from __future__ import absolute_import, division, print_function, unicode_literals\n",
    "\n",
    "import tensorflow as tf\n",
    "from tensorflow import keras\n",
    "from tensorflow.keras import layers"
   ]
  },
  {
   "cell_type": "code",
   "execution_count": 2,
   "metadata": {},
   "outputs": [
    {
     "data": {
      "text/plain": [
       "\"\\nEmbedding\\ninput_dim:int > 0. Size of the vocabulary, i.e. maximum integer index + 1.\\noutput_dim: int >= 0. Dimension of the dense embedding.\\n__init__(\\n    input_dim,\\n    output_dim,\\n    embeddings_initializer='uniform',\\n    embeddings_regularizer=None,\\n    activity_regularizer=None,\\n    embeddings_constraint=None,\\n    mask_zero=False,\\n    input_length=None,\\n    **kwargs\\n)\\n\""
      ]
     },
     "execution_count": 2,
     "metadata": {},
     "output_type": "execute_result"
    }
   ],
   "source": [
    "# max 999 vocabulary, 32 dim\n",
    "embedding_layer = layers.Embedding(1000,32)\n",
    "\"\"\"\n",
    "Embedding\n",
    "input_dim:int > 0. Size of the vocabulary, i.e. maximum integer index + 1.\n",
    "output_dim: int >= 0. Dimension of the dense embedding.\n",
    "__init__(\n",
    "    input_dim,\n",
    "    output_dim,\n",
    "    embeddings_initializer='uniform',\n",
    "    embeddings_regularizer=None,\n",
    "    activity_regularizer=None,\n",
    "    embeddings_constraint=None,\n",
    "    mask_zero=False,\n",
    "    input_length=None,\n",
    "    **kwargs\n",
    ")\n",
    "\"\"\""
   ]
  },
  {
   "cell_type": "code",
   "execution_count": 3,
   "metadata": {},
   "outputs": [
    {
     "data": {
      "text/plain": [
       "<tensorflow.python.keras.layers.embeddings.Embedding at 0x1b699978780>"
      ]
     },
     "execution_count": 3,
     "metadata": {},
     "output_type": "execute_result"
    }
   ],
   "source": [
    "embedding_layer"
   ]
  },
  {
   "cell_type": "markdown",
   "metadata": {},
   "source": [
    "When you create an Embedding layer, the weights for the embedding are randomly initialized (just like any other layer). During training, they are gradually adjusted via backpropagation."
   ]
  },
  {
   "cell_type": "markdown",
   "metadata": {},
   "source": [
    "# 3. Learning embeddings from scratch\n",
    "\n",
    "IMDB movie reviews."
   ]
  },
  {
   "cell_type": "code",
   "execution_count": 4,
   "metadata": {},
   "outputs": [],
   "source": [
    "vocab_size = 10000\n",
    "imdb = keras.datasets.imdb\n",
    "(train_data, train_labels), (test_data, test_labels) = imdb.load_data(num_words=vocab_size)"
   ]
  },
  {
   "cell_type": "code",
   "execution_count": 5,
   "metadata": {},
   "outputs": [
    {
     "name": "stdout",
     "output_type": "stream",
     "text": [
      "(25000,)\n"
     ]
    }
   ],
   "source": [
    "print(train_data.shape)"
   ]
  },
  {
   "cell_type": "code",
   "execution_count": 6,
   "metadata": {},
   "outputs": [
    {
     "name": "stdout",
     "output_type": "stream",
     "text": [
      "218\n",
      "[1, 14, 22, 16, 43, 530, 973, 1622, 1385, 65, 458, 4468, 66, 3941, 4, 173, 36, 256, 5, 25, 100, 43, 838, 112, 50, 670, 2, 9, 35, 480, 284, 5, 150, 4, 172, 112, 167, 2, 336, 385, 39, 4, 172, 4536, 1111, 17, 546, 38, 13, 447, 4, 192, 50, 16, 6, 147, 2025, 19, 14, 22, 4, 1920, 4613, 469, 4, 22, 71, 87, 12, 16, 43, 530, 38, 76, 15, 13, 1247, 4, 22, 17, 515, 17, 12, 16, 626, 18, 2, 5, 62, 386, 12, 8, 316, 8, 106, 5, 4, 2223, 5244, 16, 480, 66, 3785, 33, 4, 130, 12, 16, 38, 619, 5, 25, 124, 51, 36, 135, 48, 25, 1415, 33, 6, 22, 12, 215, 28, 77, 52, 5, 14, 407, 16, 82, 2, 8, 4, 107, 117, 5952, 15, 256, 4, 2, 7, 3766, 5, 723, 36, 71, 43, 530, 476, 26, 400, 317, 46, 7, 4, 2, 1029, 13, 104, 88, 4, 381, 15, 297, 98, 32, 2071, 56, 26, 141, 6, 194, 7486, 18, 4, 226, 22, 21, 134, 476, 26, 480, 5, 144, 30, 5535, 18, 51, 36, 28, 224, 92, 25, 104, 4, 226, 65, 16, 38, 1334, 88, 12, 16, 283, 5, 16, 4472, 113, 103, 32, 15, 16, 5345, 19, 178, 32]\n"
     ]
    }
   ],
   "source": [
    "print(len(train_data[0]))\n",
    "print(train_data[0])"
   ]
  },
  {
   "cell_type": "code",
   "execution_count": 7,
   "metadata": {},
   "outputs": [
    {
     "name": "stdout",
     "output_type": "stream",
     "text": [
      "[218, 189, 141, 550, 147, 43, 123, 562, 233, 130]\n"
     ]
    }
   ],
   "source": [
    "a = []\n",
    "for i in range(10):\n",
    "    a.append(len(train_data[i]))\n",
    "print(a)"
   ]
  },
  {
   "cell_type": "markdown",
   "metadata": {},
   "source": [
    "## 3-1 Convert the integers back to words"
   ]
  },
  {
   "cell_type": "code",
   "execution_count": 8,
   "metadata": {},
   "outputs": [],
   "source": [
    "word_index = imdb.get_word_index()"
   ]
  },
  {
   "cell_type": "code",
   "execution_count": 9,
   "metadata": {},
   "outputs": [
    {
     "name": "stdout",
     "output_type": "stream",
     "text": [
      "88584\n"
     ]
    }
   ],
   "source": [
    "print(len(word_index))"
   ]
  },
  {
   "cell_type": "code",
   "execution_count": 10,
   "metadata": {},
   "outputs": [
    {
     "name": "stdout",
     "output_type": "stream",
     "text": [
      "fawn 34701\n",
      "tsukino 52006\n",
      "nunnery 52007\n",
      "sonja 16816\n",
      "vani 63951\n"
     ]
    }
   ],
   "source": [
    "import itertools as it\n",
    "for i in it.islice(word_index,5):\n",
    "    print(i, word_index[i])"
   ]
  },
  {
   "cell_type": "code",
   "execution_count": 11,
   "metadata": {},
   "outputs": [
    {
     "data": {
      "text/plain": [
       "[('fawn', 34701),\n",
       " ('tsukino', 52006),\n",
       " ('nunnery', 52007),\n",
       " ('sonja', 16816),\n",
       " ('vani', 63951),\n",
       " ('woods', 1408),\n",
       " ('spiders', 16115),\n",
       " ('hanging', 2345),\n",
       " ('woody', 2289),\n",
       " ('trawling', 52008)]"
      ]
     },
     "execution_count": 11,
     "metadata": {},
     "output_type": "execute_result"
    }
   ],
   "source": [
    "list(word_index.items())[:10]"
   ]
  },
  {
   "cell_type": "code",
   "execution_count": 12,
   "metadata": {},
   "outputs": [],
   "source": [
    "word_index = {k:(v+3) for k,v in word_index.items()}\n",
    "word_index['<PAD>'] = 0\n",
    "word_index['<START>'] = 1\n",
    "word_index['<UNK>'] = 2 #unknown\n",
    "word_index['<UNUSED>'] = 3\n",
    "\n",
    "reverse_word_index = dict([(value, key) for (key, value) in word_index.items()])\n",
    "\n",
    "def decode_review(text):\n",
    "    return ' '.join([reverse_word_index.get(i,'?') for i in text])\n",
    "\n",
    "# get(x, 'default')"
   ]
  },
  {
   "cell_type": "code",
   "execution_count": 13,
   "metadata": {},
   "outputs": [
    {
     "data": {
      "text/plain": [
       "\"<START> this film was just brilliant casting location scenery story direction everyone's really suited the part they played and you could just imagine being there robert <UNK> is an amazing actor and now the same being director <UNK> father came from the same scottish island as myself so i loved the fact there was a real connection with this film the witty remarks throughout the film were great it was just brilliant so much that i bought the film as soon as it was released for <UNK> and would recommend it to everyone to watch and the fly fishing was amazing really cried at the end it was so sad and you know what they say if you cry at a film it must have been good and this definitely was also <UNK> to the two little boy's that played the <UNK> of norman and paul they were just brilliant children are often left out of the <UNK> list i think because the stars that play them all grown up are such a big profile for the whole film but these children are amazing and should be praised for what they have done don't you think the whole story was so lovely because it was true and was someone's life after all that was shared with us all\""
      ]
     },
     "execution_count": 13,
     "metadata": {},
     "output_type": "execute_result"
    }
   ],
   "source": [
    "decode_review(train_data[0])"
   ]
  },
  {
   "cell_type": "markdown",
   "metadata": {},
   "source": [
    "Movie reviews can be different lengths. <br>\n",
    "We will use the __pad_sequences function to standardize the lengths of the reviews.__<br>"
   ]
  },
  {
   "cell_type": "code",
   "execution_count": 14,
   "metadata": {},
   "outputs": [],
   "source": [
    "maxlen = 500\n",
    "\n",
    "train_data = keras.preprocessing.sequence.pad_sequences(train_data,\n",
    "                                                       value=word_index[\"<PAD>\"],\n",
    "                                                       padding='post',\n",
    "                                                       maxlen=maxlen)\n",
    "\n",
    "test_data = keras.preprocessing.sequence.pad_sequences(test_data,\n",
    "                                                       value=word_index[\"<PAD>\"],\n",
    "                                                       padding='post',\n",
    "                                                       maxlen=maxlen)"
   ]
  },
  {
   "cell_type": "code",
   "execution_count": 15,
   "metadata": {},
   "outputs": [
    {
     "name": "stdout",
     "output_type": "stream",
     "text": [
      "500\n"
     ]
    }
   ],
   "source": [
    "print(len(train_data[0]))"
   ]
  },
  {
   "cell_type": "markdown",
   "metadata": {},
   "source": [
    "## 3-2 Create a simple model\n",
    "\n",
    "- The first layer is an Embedding layer. The resulting dimensions are: (batch, sequence, embedding)`.\n",
    "- Next, a GlobalAveragePooling1D layer returns a fixed-length output vector for each example by averaging over the sequence dimension.\n",
    "- This fixed-length output vector is piped through a fully-connected (Dense) layer with 16 hidden units.\n",
    "- The last layer is densely connected with a single output node. Using the sigmoid activation function"
   ]
  },
  {
   "cell_type": "code",
   "execution_count": 16,
   "metadata": {},
   "outputs": [
    {
     "name": "stdout",
     "output_type": "stream",
     "text": [
      "Model: \"sequential\"\n",
      "_________________________________________________________________\n",
      "Layer (type)                 Output Shape              Param #   \n",
      "=================================================================\n",
      "embedding_1 (Embedding)      (None, 500, 16)           160000    \n",
      "_________________________________________________________________\n",
      "global_average_pooling1d (Gl (None, 16)                0         \n",
      "_________________________________________________________________\n",
      "dense (Dense)                (None, 16)                272       \n",
      "_________________________________________________________________\n",
      "dense_1 (Dense)              (None, 1)                 17        \n",
      "=================================================================\n",
      "Total params: 160,289\n",
      "Trainable params: 160,289\n",
      "Non-trainable params: 0\n",
      "_________________________________________________________________\n"
     ]
    }
   ],
   "source": [
    "embedding_dim = 16\n",
    "\n",
    "model = keras.Sequential([\n",
    "    layers.Embedding(vocab_size, embedding_dim, input_length=maxlen), # 10000, 16, 500\n",
    "    layers.GlobalAveragePooling1D(),\n",
    "    layers.Dense(16, activation='relu'),\n",
    "    layers.Dense(1, activation='sigmoid')\n",
    "])\n",
    "\n",
    "model.summary()"
   ]
  },
  {
   "cell_type": "markdown",
   "metadata": {},
   "source": [
    "## 3-3 Compile and train the model"
   ]
  },
  {
   "cell_type": "code",
   "execution_count": 17,
   "metadata": {},
   "outputs": [
    {
     "name": "stdout",
     "output_type": "stream",
     "text": [
      "Train on 25000 samples, validate on 25000 samples\n",
      "Epoch 1/30\n",
      "25000/25000 [==============================] - 2s 87us/sample - loss: 0.6921 - accuracy: 0.5666 - val_loss: 0.6905 - val_accuracy: 0.6095\n",
      "Epoch 2/30\n",
      "25000/25000 [==============================] - 1s 59us/sample - loss: 0.6863 - accuracy: 0.6563 - val_loss: 0.6810 - val_accuracy: 0.6873\n",
      "Epoch 3/30\n",
      "25000/25000 [==============================] - 2s 62us/sample - loss: 0.6693 - accuracy: 0.7467 - val_loss: 0.6576 - val_accuracy: 0.7588\n",
      "Epoch 4/30\n",
      "25000/25000 [==============================] - 2s 60us/sample - loss: 0.6352 - accuracy: 0.7784 - val_loss: 0.6184 - val_accuracy: 0.7713\n",
      "Epoch 5/30\n",
      "25000/25000 [==============================] - 2s 61us/sample - loss: 0.5847 - accuracy: 0.8000 - val_loss: 0.5660 - val_accuracy: 0.8008\n",
      "Epoch 6/30\n",
      "25000/25000 [==============================] - 2s 68us/sample - loss: 0.5245 - accuracy: 0.8268 - val_loss: 0.5112 - val_accuracy: 0.8210\n",
      "Epoch 7/30\n",
      "25000/25000 [==============================] - 2s 61us/sample - loss: 0.4665 - accuracy: 0.8493 - val_loss: 0.4634 - val_accuracy: 0.8368\n",
      "Epoch 8/30\n",
      "25000/25000 [==============================] - 2s 64us/sample - loss: 0.4171 - accuracy: 0.8638 - val_loss: 0.4233 - val_accuracy: 0.8483\n",
      "Epoch 9/30\n",
      "25000/25000 [==============================] - 2s 60us/sample - loss: 0.3768 - accuracy: 0.8746 - val_loss: 0.3929 - val_accuracy: 0.8557\n",
      "Epoch 10/30\n",
      "25000/25000 [==============================] - 1s 60us/sample - loss: 0.3456 - accuracy: 0.8822 - val_loss: 0.3694 - val_accuracy: 0.8632\n",
      "Epoch 11/30\n",
      "25000/25000 [==============================] - 2s 61us/sample - loss: 0.3199 - accuracy: 0.8906 - val_loss: 0.3518 - val_accuracy: 0.8667\n",
      "Epoch 12/30\n",
      "25000/25000 [==============================] - 2s 61us/sample - loss: 0.2992 - accuracy: 0.8968 - val_loss: 0.3375 - val_accuracy: 0.8709\n",
      "Epoch 13/30\n",
      "25000/25000 [==============================] - 2s 63us/sample - loss: 0.2826 - accuracy: 0.9011 - val_loss: 0.3281 - val_accuracy: 0.8725\n",
      "Epoch 14/30\n",
      "25000/25000 [==============================] - 2s 61us/sample - loss: 0.2673 - accuracy: 0.9073 - val_loss: 0.3182 - val_accuracy: 0.8753\n",
      "Epoch 15/30\n",
      "25000/25000 [==============================] - 2s 64us/sample - loss: 0.2546 - accuracy: 0.9110 - val_loss: 0.3103 - val_accuracy: 0.8788\n",
      "Epoch 16/30\n",
      "25000/25000 [==============================] - 2s 69us/sample - loss: 0.2432 - accuracy: 0.9157 - val_loss: 0.3051 - val_accuracy: 0.8804\n",
      "Epoch 17/30\n",
      "25000/25000 [==============================] - 2s 65us/sample - loss: 0.2325 - accuracy: 0.9196 - val_loss: 0.2995 - val_accuracy: 0.8820\n",
      "Epoch 18/30\n",
      "25000/25000 [==============================] - 2s 64us/sample - loss: 0.2231 - accuracy: 0.9230 - val_loss: 0.2971 - val_accuracy: 0.8820\n",
      "Epoch 19/30\n",
      "25000/25000 [==============================] - 2s 66us/sample - loss: 0.2147 - accuracy: 0.9262 - val_loss: 0.2938 - val_accuracy: 0.8824\n",
      "Epoch 20/30\n",
      "25000/25000 [==============================] - 2s 62us/sample - loss: 0.2069 - accuracy: 0.9287 - val_loss: 0.2908 - val_accuracy: 0.8849\n",
      "Epoch 21/30\n",
      "25000/25000 [==============================] - 1s 56us/sample - loss: 0.1998 - accuracy: 0.9311 - val_loss: 0.2931 - val_accuracy: 0.8837\n",
      "Epoch 22/30\n",
      "25000/25000 [==============================] - 1s 56us/sample - loss: 0.1944 - accuracy: 0.9324 - val_loss: 0.2898 - val_accuracy: 0.8848\n",
      "Epoch 23/30\n",
      "25000/25000 [==============================] - 1s 56us/sample - loss: 0.1870 - accuracy: 0.9364 - val_loss: 0.2878 - val_accuracy: 0.8857\n",
      "Epoch 24/30\n",
      "25000/25000 [==============================] - 2s 62us/sample - loss: 0.1811 - accuracy: 0.9380 - val_loss: 0.2882 - val_accuracy: 0.8858\n",
      "Epoch 25/30\n",
      "25000/25000 [==============================] - 2s 60us/sample - loss: 0.1755 - accuracy: 0.9406 - val_loss: 0.2860 - val_accuracy: 0.8860\n",
      "Epoch 26/30\n",
      "25000/25000 [==============================] - 1s 59us/sample - loss: 0.1705 - accuracy: 0.9432 - val_loss: 0.2856 - val_accuracy: 0.8858\n",
      "Epoch 27/30\n",
      "25000/25000 [==============================] - 1s 58us/sample - loss: 0.1653 - accuracy: 0.9446 - val_loss: 0.2877 - val_accuracy: 0.8853\n",
      "Epoch 28/30\n",
      "25000/25000 [==============================] - 2s 74us/sample - loss: 0.1605 - accuracy: 0.9464 - val_loss: 0.2891 - val_accuracy: 0.8854\n",
      "Epoch 29/30\n",
      "25000/25000 [==============================] - 1s 58us/sample - loss: 0.1562 - accuracy: 0.9478 - val_loss: 0.2923 - val_accuracy: 0.8850\n",
      "Epoch 30/30\n",
      "25000/25000 [==============================] - 1s 56us/sample - loss: 0.1521 - accuracy: 0.9492 - val_loss: 0.2910 - val_accuracy: 0.8851\n"
     ]
    }
   ],
   "source": [
    "model.compile(optimizer='adam',\n",
    "             loss='binary_crossentropy',\n",
    "             metrics=['accuracy'])\n",
    "\n",
    "history = model.fit(\n",
    "    train_data,\n",
    "    train_labels,\n",
    "    epochs=30,\n",
    "    batch_size=512,\n",
    "    validation_data=(test_data, test_labels))"
   ]
  },
  {
   "cell_type": "code",
   "execution_count": 18,
   "metadata": {},
   "outputs": [
    {
     "data": {
      "image/png": "[encoded data removed]",
      "text/plain": [
       "<Figure size 864x648 with 1 Axes>"
      ]
     },
     "metadata": {
      "needs_background": "light"
     },
     "output_type": "display_data"
    },
    {
     "data": {
      "image/png": "[encoded data removed]",
      "text/plain": [
       "<Figure size 864x648 with 1 Axes>"
      ]
     },
     "metadata": {
      "needs_background": "light"
     },
     "output_type": "display_data"
    }
   ],
   "source": [
    "import matplotlib.pyplot as plt\n",
    "%matplotlib inline\n",
    "\n",
    "history_dict = history.history\n",
    "\n",
    "acc = history_dict['accuracy']\n",
    "val_acc = history_dict['val_accuracy']\n",
    "loss = history_dict['loss']\n",
    "val_loss = history_dict['val_loss']\n",
    "\n",
    "epochs = range(1, len(acc)+1)\n",
    "\n",
    "plt.figure(figsize=(12,9))\n",
    "plt.plot(epochs, loss,' bo', label='Training loss')\n",
    "plt.plot(epochs, val_loss,'b', label='Validation loss')\n",
    "plt.title('Training and validation loss')\n",
    "plt.xlabel('Epochs')\n",
    "plt.ylabel('Loss')\n",
    "plt.legend()\n",
    "plt.show()\n",
    "\n",
    "plt.figure(figsize=(12,9))\n",
    "plt.plot(epochs, acc, 'bo', label='Training acc')\n",
    "plt.plot(epochs, val_acc, 'b', label='Validation acc')\n",
    "plt.title('Training and validation accuracy')\n",
    "plt.xlabel('Epochs')\n",
    "plt.ylabel('Accuracy')\n",
    "plt.legend(loc='lower right')\n",
    "plt.ylim((0.5,1))\n",
    "plt.show()"
   ]
  },
  {
   "cell_type": "markdown",
   "metadata": {},
   "source": [
    "# 4. Retrieve the learned embeddings\n",
    "\n",
    "- retrieve : 1. (특히 제자리가 아닌 곳에 있는 것을) 되찾아오다   2. (정보를) 검색하다\n",
    "\n",
    "This will be a matrix of shape (vocab_size,embedding-dimension)."
   ]
  },
  {
   "cell_type": "code",
   "execution_count": 19,
   "metadata": {},
   "outputs": [
    {
     "name": "stdout",
     "output_type": "stream",
     "text": [
      "(10000, 16)\n"
     ]
    }
   ],
   "source": [
    "e = model.layers[0]\n",
    "weights = e.get_weights()[0]\n",
    "print(weights.shape)"
   ]
  },
  {
   "cell_type": "markdown",
   "metadata": {},
   "source": [
    "To use the Embedding Projector, we will upload two files in tab separated format: a file of vectors (containing the embedding), and a file of meta data (containing the words)."
   ]
  },
  {
   "cell_type": "code",
   "execution_count": 20,
   "metadata": {},
   "outputs": [],
   "source": [
    "import io\n",
    "out_v = io.open('vecs.tsv','w', encoding='utf-8')\n",
    "out_m = io.open('meta.tsv','w', encoding='utf-8')\n",
    "for word_num in range(vocab_size):\n",
    "    word = reverse_word_index[word_num]\n",
    "    embeddings = weights[word_num]\n",
    "    out_m.write(word + '\\n')\n",
    "    out_v.write('\\t'.join([str(x) for x in embeddings]) + '\\n')\n",
    "    \n",
    "out_v.close()\n",
    "out_m.close()"
   ]
  },
  {
   "cell_type": "markdown",
   "metadata": {},
   "source": [
    "# 5. Visualize the embeddings\n",
    "\n",
    "Open the Embedding Projector.: http://projector.tensorflow.org/\n",
    "\n",
    "- Click on \"Load data\".\n",
    "- Upload the two files we created above: vecs.tsv and meta.tsv. T"
   ]
  }
 ],
 "metadata": {
  "kernelspec": {
   "display_name": "tf20a",
   "language": "python",
   "name": "tf20a"
  },
  "language_info": {
   "codemirror_mode": {
    "name": "ipython",
    "version": 3
   },
   "file_extension": ".py",
   "mimetype": "text/x-python",
   "name": "python",
   "nbconvert_exporter": "python",
   "pygments_lexer": "ipython3",
   "version": "3.6.8"
  }
 },
 "nbformat": 4,
 "nbformat_minor": 2
}
