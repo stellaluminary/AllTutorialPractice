{
 "cells": [
  {
   "cell_type": "markdown",
   "metadata": {},
   "source": [
    "# 1. Deep Learning with PyTorch - A 60 Minute Blitz \n",
    "## 1. WHAT IS PYTORCH\n",
    "\n",
    "Practice!\n",
    "\n",
    "CopyRight : https://pytorch.org/tutorials/beginner/deep_learning_60min_blitz.html"
   ]
  },
  {
   "cell_type": "code",
   "execution_count": 1,
   "metadata": {},
   "outputs": [],
   "source": [
    "from __future__ import print_function\n",
    "import torch"
   ]
  },
  {
   "cell_type": "code",
   "execution_count": 2,
   "metadata": {},
   "outputs": [
    {
     "name": "stdout",
     "output_type": "stream",
     "text": [
      "tensor([[4.3988e+21, 1.1061e+30, 1.8289e+28],\n",
      "        [1.6532e+19, 1.1708e-19, 1.3563e-19],\n",
      "        [1.8904e+23, 1.6388e+19, 4.7615e+30],\n",
      "        [1.8918e+23, 5.1712e-11, 3.0598e+32],\n",
      "        [2.7488e+20, 1.6097e+19, 1.3563e-19]])\n"
     ]
    }
   ],
   "source": [
    "x = torch.empty(5,3)\n",
    "print(x)"
   ]
  },
  {
   "cell_type": "code",
   "execution_count": 3,
   "metadata": {},
   "outputs": [
    {
     "name": "stdout",
     "output_type": "stream",
     "text": [
      "tensor([[0.6068, 0.9565, 0.8045],\n",
      "        [0.9199, 0.2949, 0.1739],\n",
      "        [0.7479, 0.7305, 0.6432],\n",
      "        [0.7239, 0.3514, 0.7333],\n",
      "        [0.7159, 0.5831, 0.7116]])\n"
     ]
    }
   ],
   "source": [
    "x = torch.rand(5,3)\n",
    "print(x)"
   ]
  },
  {
   "cell_type": "code",
   "execution_count": 4,
   "metadata": {},
   "outputs": [
    {
     "name": "stdout",
     "output_type": "stream",
     "text": [
      "tensor([[0, 0, 0],\n",
      "        [0, 0, 0],\n",
      "        [0, 0, 0],\n",
      "        [0, 0, 0],\n",
      "        [0, 0, 0]])\n"
     ]
    }
   ],
   "source": [
    "x = torch.zeros(5,3, dtype=torch.long)\n",
    "print(x)"
   ]
  },
  {
   "cell_type": "code",
   "execution_count": 5,
   "metadata": {},
   "outputs": [
    {
     "name": "stdout",
     "output_type": "stream",
     "text": [
      "tensor([5.5000, 3.0000])\n"
     ]
    }
   ],
   "source": [
    "x = torch.tensor([5.5,3])\n",
    "print(x)"
   ]
  },
  {
   "cell_type": "code",
   "execution_count": 6,
   "metadata": {},
   "outputs": [
    {
     "name": "stdout",
     "output_type": "stream",
     "text": [
      "tensor([[1., 1., 1.],\n",
      "        [1., 1., 1.],\n",
      "        [1., 1., 1.],\n",
      "        [1., 1., 1.],\n",
      "        [1., 1., 1.]], dtype=torch.float64)\n"
     ]
    }
   ],
   "source": [
    "x = x.new_ones(5,3, dtype=torch.double)\n",
    "print(x)"
   ]
  },
  {
   "cell_type": "code",
   "execution_count": 7,
   "metadata": {},
   "outputs": [
    {
     "name": "stdout",
     "output_type": "stream",
     "text": [
      "tensor([[ 0.8804,  1.8803,  0.3307],\n",
      "        [-0.2006, -0.2808, -0.2272],\n",
      "        [ 1.7982,  0.5724,  2.1640],\n",
      "        [ 0.7264, -1.1244,  3.0669],\n",
      "        [-0.9955,  0.5693, -0.7096]])\n"
     ]
    }
   ],
   "source": [
    "x = torch.randn_like(x, dtype=torch.float)\n",
    "print(x)"
   ]
  },
  {
   "cell_type": "code",
   "execution_count": 8,
   "metadata": {},
   "outputs": [
    {
     "name": "stdout",
     "output_type": "stream",
     "text": [
      "torch.Size([5, 3])\n"
     ]
    }
   ],
   "source": [
    "print(x.size())"
   ]
  },
  {
   "cell_type": "code",
   "execution_count": 9,
   "metadata": {},
   "outputs": [
    {
     "name": "stdout",
     "output_type": "stream",
     "text": [
      "tensor([[ 0.9021,  2.0295,  0.5658],\n",
      "        [ 0.4574,  0.2783,  0.3442],\n",
      "        [ 2.1252,  1.3908,  3.1089],\n",
      "        [ 1.3846, -0.1303,  3.9043],\n",
      "        [-0.0951,  0.5699, -0.0430]])\n"
     ]
    }
   ],
   "source": [
    "y = torch.rand(5,3)\n",
    "print(x+y)"
   ]
  },
  {
   "cell_type": "code",
   "execution_count": 10,
   "metadata": {},
   "outputs": [
    {
     "name": "stdout",
     "output_type": "stream",
     "text": [
      "tensor([[ 0.9021,  2.0295,  0.5658],\n",
      "        [ 0.4574,  0.2783,  0.3442],\n",
      "        [ 2.1252,  1.3908,  3.1089],\n",
      "        [ 1.3846, -0.1303,  3.9043],\n",
      "        [-0.0951,  0.5699, -0.0430]])\n"
     ]
    }
   ],
   "source": [
    "print(torch.add(x,y))"
   ]
  },
  {
   "cell_type": "code",
   "execution_count": 11,
   "metadata": {},
   "outputs": [
    {
     "name": "stdout",
     "output_type": "stream",
     "text": [
      "tensor([[5.7886e+22, 6.7120e+22, 1.1632e+33],\n",
      "        [3.2598e-12, 7.4086e+28, 1.8143e+25],\n",
      "        [7.0060e+22, 7.8675e+34, 1.0894e+27],\n",
      "        [1.4348e-19, 2.7530e+12, 7.5338e+28],\n",
      "        [9.0950e-12, 6.2609e+22, 4.7428e+30]])\n",
      "tensor([[ 0.9021,  2.0295,  0.5658],\n",
      "        [ 0.4574,  0.2783,  0.3442],\n",
      "        [ 2.1252,  1.3908,  3.1089],\n",
      "        [ 1.3846, -0.1303,  3.9043],\n",
      "        [-0.0951,  0.5699, -0.0430]])\n"
     ]
    }
   ],
   "source": [
    "result = torch.empty(5,3)\n",
    "print(result)\n",
    "torch.add(x,y,out=result)\n",
    "print(result)"
   ]
  },
  {
   "cell_type": "code",
   "execution_count": 12,
   "metadata": {},
   "outputs": [
    {
     "name": "stdout",
     "output_type": "stream",
     "text": [
      "tensor([[ 0.9021,  2.0295,  0.5658],\n",
      "        [ 0.4574,  0.2783,  0.3442],\n",
      "        [ 2.1252,  1.3908,  3.1089],\n",
      "        [ 1.3846, -0.1303,  3.9043],\n",
      "        [-0.0951,  0.5699, -0.0430]])\n"
     ]
    }
   ],
   "source": [
    "y.add_(x)\n",
    "print(y)"
   ]
  },
  {
   "cell_type": "code",
   "execution_count": 13,
   "metadata": {},
   "outputs": [
    {
     "name": "stdout",
     "output_type": "stream",
     "text": [
      "tensor([[ 0.9021,  2.0295,  0.5658],\n",
      "        [ 0.4574,  0.2783,  0.3442],\n",
      "        [ 2.1252,  1.3908,  3.1089],\n",
      "        [ 1.3846, -0.1303,  3.9043],\n",
      "        [-0.0951,  0.5699, -0.0430]])\n"
     ]
    }
   ],
   "source": [
    "x.copy_(y)\n",
    "print(x)"
   ]
  },
  {
   "cell_type": "code",
   "execution_count": 14,
   "metadata": {},
   "outputs": [
    {
     "name": "stdout",
     "output_type": "stream",
     "text": [
      "tensor([[ 0.9021,  2.0295,  0.5658],\n",
      "        [ 0.4574,  0.2783,  0.3442],\n",
      "        [ 2.1252,  1.3908,  3.1089],\n",
      "        [ 1.3846, -0.1303,  3.9043],\n",
      "        [-0.0951,  0.5699, -0.0430]])\n",
      "tensor([[ 0.9021,  0.4574,  2.1252,  1.3846, -0.0951],\n",
      "        [ 2.0295,  0.2783,  1.3908, -0.1303,  0.5699],\n",
      "        [ 0.5658,  0.3442,  3.1089,  3.9043, -0.0430]])\n"
     ]
    }
   ],
   "source": [
    "x.t()\n",
    "print(x)\n",
    "x.t_()\n",
    "print(x)"
   ]
  },
  {
   "cell_type": "code",
   "execution_count": 15,
   "metadata": {},
   "outputs": [
    {
     "name": "stdout",
     "output_type": "stream",
     "text": [
      "tensor([ 2.0295,  0.2783,  1.3908, -0.1303,  0.5699])\n"
     ]
    }
   ],
   "source": [
    "x.t_()\n",
    "print(x[:,1])"
   ]
  },
  {
   "cell_type": "code",
   "execution_count": 16,
   "metadata": {},
   "outputs": [
    {
     "name": "stdout",
     "output_type": "stream",
     "text": [
      "torch.Size([4, 4]) torch.Size([16]) torch.Size([2, 8])\n"
     ]
    }
   ],
   "source": [
    "x=torch.randn(4,4)\n",
    "y=x.view(16)\n",
    "z=x.view(-1,8)\n",
    "print(x.size(), y.size(), z.size())"
   ]
  },
  {
   "cell_type": "markdown",
   "metadata": {},
   "source": [
    "Resizing: If you want to resize/reshape tensor, you can use torch.view:"
   ]
  },
  {
   "cell_type": "code",
   "execution_count": 17,
   "metadata": {},
   "outputs": [
    {
     "data": {
      "text/plain": [
       "tensor([[ 0.4663,  0.0297],\n",
       "        [-0.5243,  0.6191],\n",
       "        [ 0.8274, -0.7501],\n",
       "        [ 0.6304,  0.7834],\n",
       "        [ 1.3922,  1.2175],\n",
       "        [-0.3387,  1.0927],\n",
       "        [ 0.0138, -0.9907],\n",
       "        [ 0.6701, -0.8635]])"
      ]
     },
     "execution_count": 17,
     "metadata": {},
     "output_type": "execute_result"
    }
   ],
   "source": [
    "x.view(8,2)"
   ]
  },
  {
   "cell_type": "code",
   "execution_count": 18,
   "metadata": {},
   "outputs": [
    {
     "name": "stdout",
     "output_type": "stream",
     "text": [
      "tensor([[-1.5143,  0.6058],\n",
      "        [ 0.2109, -2.7996]])\n"
     ]
    }
   ],
   "source": [
    "x = torch.randn(2,2)\n",
    "print(x)\n",
    "\n",
    "# ValueError: only one element tensors can be converted to Python scalars\n",
    "#print(x.item()) "
   ]
  },
  {
   "cell_type": "code",
   "execution_count": 19,
   "metadata": {},
   "outputs": [
    {
     "name": "stdout",
     "output_type": "stream",
     "text": [
      "tensor([-3.2200])\n",
      "-3.219953775405884\n"
     ]
    }
   ],
   "source": [
    "x = torch.randn(1)\n",
    "print(x)\n",
    "print(x.item())"
   ]
  },
  {
   "cell_type": "markdown",
   "metadata": {},
   "source": [
    "### NumPy Bridge\n",
    "\n",
    "### Converting a Torch Tensor to a NumPy Array"
   ]
  },
  {
   "cell_type": "code",
   "execution_count": 20,
   "metadata": {},
   "outputs": [
    {
     "name": "stdout",
     "output_type": "stream",
     "text": [
      "tensor([1., 1., 1., 1., 1.])\n"
     ]
    }
   ],
   "source": [
    "a = torch.ones(5)\n",
    "print(a)"
   ]
  },
  {
   "cell_type": "code",
   "execution_count": 21,
   "metadata": {},
   "outputs": [
    {
     "name": "stdout",
     "output_type": "stream",
     "text": [
      "[1. 1. 1. 1. 1.]\n"
     ]
    }
   ],
   "source": [
    "b = a.numpy()\n",
    "print(b)"
   ]
  },
  {
   "cell_type": "code",
   "execution_count": 22,
   "metadata": {},
   "outputs": [
    {
     "name": "stdout",
     "output_type": "stream",
     "text": [
      "tensor([2., 2., 2., 2., 2.])\n",
      "[2. 2. 2. 2. 2.]\n"
     ]
    }
   ],
   "source": [
    "a.add_(1)\n",
    "print(a)\n",
    "print(b)"
   ]
  },
  {
   "cell_type": "markdown",
   "metadata": {},
   "source": [
    "### Converting NumPy Array to Torch Tensor\n",
    "\n",
    "All the Tensors on the CPU except a CharTensor support converting to NumPy and back."
   ]
  },
  {
   "cell_type": "code",
   "execution_count": 23,
   "metadata": {},
   "outputs": [
    {
     "name": "stdout",
     "output_type": "stream",
     "text": [
      "[2. 2. 2. 2. 2.]\n",
      "tensor([2., 2., 2., 2., 2.], dtype=torch.float64)\n"
     ]
    }
   ],
   "source": [
    "import numpy as np\n",
    "a = np.ones(5)\n",
    "b = torch.from_numpy(a)\n",
    "np.add(a,1,out=a)\n",
    "print(a)\n",
    "print(b)"
   ]
  },
  {
   "cell_type": "code",
   "execution_count": 24,
   "metadata": {},
   "outputs": [
    {
     "data": {
      "text/plain": [
       "array([3., 3., 3., 3., 3.])"
      ]
     },
     "execution_count": 24,
     "metadata": {},
     "output_type": "execute_result"
    }
   ],
   "source": [
    "np.add(a,1,out=a)"
   ]
  },
  {
   "cell_type": "markdown",
   "metadata": {},
   "source": [
    "### CUDA Tensors\n",
    "Tensors can be moved onto any device using the .to method."
   ]
  },
  {
   "cell_type": "code",
   "execution_count": 25,
   "metadata": {},
   "outputs": [
    {
     "name": "stdout",
     "output_type": "stream",
     "text": [
      "tensor([-3.2200], device='cuda:0') tensor([1.], device='cuda:0')\n",
      "tensor([-2.2200], device='cuda:0')\n",
      "tensor([-2.2200], dtype=torch.float64)\n"
     ]
    }
   ],
   "source": [
    "if torch.cuda.is_available():\n",
    "    device = torch.device('cuda')    \n",
    "    y = torch.ones_like(x, device=device)    \n",
    "    x = x.to(device)\n",
    "    z = x+y\n",
    "    print(x,y)\n",
    "    print(z)\n",
    "    print(z.to('cpu', torch.double))"
   ]
  }
 ],
 "metadata": {
  "kernelspec": {
   "display_name": "Python [conda env:tf20] *",
   "language": "python",
   "name": "conda-env-tf20-py"
  },
  "language_info": {
   "codemirror_mode": {
    "name": "ipython",
    "version": 3
   },
   "file_extension": ".py",
   "mimetype": "text/x-python",
   "name": "python",
   "nbconvert_exporter": "python",
   "pygments_lexer": "ipython3",
   "version": "3.6.9"
  }
 },
 "nbformat": 4,
 "nbformat_minor": 2
}
