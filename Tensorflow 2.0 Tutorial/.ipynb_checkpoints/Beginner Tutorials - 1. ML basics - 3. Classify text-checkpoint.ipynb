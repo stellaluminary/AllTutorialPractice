{
 "cells": [
  {
   "cell_type": "markdown",
   "metadata": {},
   "source": [
    "# Beginner Tutorials - 1. ML basics\n",
    "1. Overview\n",
    "- Classify images\n",
    "- Classify text\n",
    "- Classify structured data\n",
    "- Regression\n",
    "- Overfitting and Underfitting\n",
    "- Save and Restore Models"
   ]
  },
  {
   "cell_type": "markdown",
   "metadata": {},
   "source": [
    "# 3. Classify text\n",
    "https://www.tensorflow.org/alpha/tutorials/keras/basic_text_classification\n",
    "\n",
    "- IMDB 데이터셋 다운로드\n",
    "- 데이터 탐색\n",
    " - 정수를 단어로 다시 변환하기\n",
    "- 데이터 준비\n",
    "- 모델 구성\n",
    " - 은닉 유닛\n",
    " - 손실 함수와 옵티마이저\n",
    "- 검증 세트 만들기\n",
    "- 모델 훈련\n",
    "- 모델 평가\n",
    "- 정확도와 손실 그래프 그리기"
   ]
  },
  {
   "cell_type": "markdown",
   "metadata": {},
   "source": [
    "인터넷 영화 데이터베이스(Internet Movie DataBase:IMDB)<br>\n",
    "25000 훈련, 25000 테스트용<br>\n",
    "Review : Positive vs Negative : 이진 분류 문제<br>\n",
    "\n",
    "tf.keras를 사용한 고급 텍스트 분류 튜토리얼 : MLCC 텍스트 분류 가이드 <br>\n",
    "https://developers.google.com/machine-learning/guides/text-classification/"
   ]
  },
  {
   "cell_type": "code",
   "execution_count": 1,
   "metadata": {},
   "outputs": [
    {
     "name": "stdout",
     "output_type": "stream",
     "text": [
      "2.0.0-alpha0\n"
     ]
    }
   ],
   "source": [
    "from __future__ import absolute_import, division, print_function, unicode_literals\n",
    "\n",
    "import tensorflow as tf\n",
    "from tensorflow import keras\n",
    "import numpy as np\n",
    "\n",
    "print(tf.__version__)"
   ]
  },
  {
   "cell_type": "code",
   "execution_count": 2,
   "metadata": {},
   "outputs": [],
   "source": [
    "imdb = keras.datasets.imdb\n",
    "\n",
    "(train_data, train_labels), (test_data, test_labels) = imdb.load_data(num_words=10000)"
   ]
  },
  {
   "cell_type": "markdown",
   "metadata": {},
   "source": [
    "매개변수 num_words=10000은 훈련 데이터에서 가장 많이 등장하는 상위 10,000개의 단어를 선택합니다. <br>\n",
    "데이터 크기를 적당하게 유지하기 위해 드물에 등장하는 단어는 제외하겠습니다."
   ]
  },
  {
   "cell_type": "markdown",
   "metadata": {},
   "source": [
    "### 데이터 탐색\n",
    "- 정수를 단어로 다시 변환하기"
   ]
  },
  {
   "cell_type": "code",
   "execution_count": 3,
   "metadata": {},
   "outputs": [
    {
     "name": "stdout",
     "output_type": "stream",
     "text": [
      "훈련 샘플:25000, 레이블 샘플:25000\n"
     ]
    }
   ],
   "source": [
    "print('훈련 샘플:{}, 레이블 샘플:{}'.format(len(train_data), len(train_labels)))"
   ]
  },
  {
   "cell_type": "code",
   "execution_count": 4,
   "metadata": {},
   "outputs": [
    {
     "name": "stdout",
     "output_type": "stream",
     "text": [
      "[1, 14, 22, 16, 43, 530, 973, 1622, 1385, 65, 458, 4468, 66, 3941, 4, 173, 36, 256, 5, 25, 100, 43, 838, 112, 50, 670, 2, 9, 35, 480, 284, 5, 150, 4, 172, 112, 167, 2, 336, 385, 39, 4, 172, 4536, 1111, 17, 546, 38, 13, 447, 4, 192, 50, 16, 6, 147, 2025, 19, 14, 22, 4, 1920, 4613, 469, 4, 22, 71, 87, 12, 16, 43, 530, 38, 76, 15, 13, 1247, 4, 22, 17, 515, 17, 12, 16, 626, 18, 2, 5, 62, 386, 12, 8, 316, 8, 106, 5, 4, 2223, 5244, 16, 480, 66, 3785, 33, 4, 130, 12, 16, 38, 619, 5, 25, 124, 51, 36, 135, 48, 25, 1415, 33, 6, 22, 12, 215, 28, 77, 52, 5, 14, 407, 16, 82, 2, 8, 4, 107, 117, 5952, 15, 256, 4, 2, 7, 3766, 5, 723, 36, 71, 43, 530, 476, 26, 400, 317, 46, 7, 4, 2, 1029, 13, 104, 88, 4, 381, 15, 297, 98, 32, 2071, 56, 26, 141, 6, 194, 7486, 18, 4, 226, 22, 21, 134, 476, 26, 480, 5, 144, 30, 5535, 18, 51, 36, 28, 224, 92, 25, 104, 4, 226, 65, 16, 38, 1334, 88, 12, 16, 283, 5, 16, 4472, 113, 103, 32, 15, 16, 5345, 19, 178, 32]\n"
     ]
    }
   ],
   "source": [
    "print(train_data[0])"
   ]
  },
  {
   "cell_type": "code",
   "execution_count": 5,
   "metadata": {},
   "outputs": [
    {
     "data": {
      "text/plain": [
       "(218, 189)"
      ]
     },
     "execution_count": 5,
     "metadata": {},
     "output_type": "execute_result"
    }
   ],
   "source": [
    "len(train_data[0]), len(train_data[1])"
   ]
  },
  {
   "cell_type": "code",
   "execution_count": 6,
   "metadata": {},
   "outputs": [],
   "source": [
    "word_index = imdb.get_word_index()"
   ]
  },
  {
   "cell_type": "markdown",
   "metadata": {},
   "source": [
    "<font color='blue'><b>word_index </b></font>= \n",
    "{'fawn': 34701,\n",
    " 'tsukino': 52006,\n",
    " 'nunnery': 52007,\n",
    " 'sonja': 16816,\n",
    " 'vani': 63951,\n",
    " 'woods': 1408,\n",
    " 'spiders': 16115,\n",
    " 'hanging': 2345,\n",
    " 'woody': 2289,\n",
    " 'trawling': 52008,\n",
    " \"hold's\": 52009,\n",
    " 'comically': 11307,\n",
    " 'localized': 40830,\n",
    " etc...}"
   ]
  },
  {
   "cell_type": "markdown",
   "metadata": {},
   "source": [
    "<font color='blue'><b>word_index.items()</b></font> = dict_items([('fawn', 34701), ('tsukino', 52006), ('nunnery', 52007), ('sonja', 16816), ('vani', 63951), ('woods', 1408), ('spiders', 16115), ('hanging', 2345), ('woody', 2289), ('trawling', 52008), (\"hold's\", 52009), ('comically', 11307), ('localized', 40830), ('disobeying', 30568), (\"'royale\", 52010), (\"harpo's\", 40831), ('canet', 52011), ('aileen', 19313), ('acurately', 52012), (\"diplomat's\", 52013), ('rickman', 25242), ('arranged', 6746), ('rumbustious', 52014), etc...]"
   ]
  },
  {
   "cell_type": "code",
   "execution_count": 7,
   "metadata": {},
   "outputs": [],
   "source": [
    "word_index = {k:(v+3) for k,v in word_index.items()}\n",
    "word_index[\"<PAD>\"]=0\n",
    "word_index[\"START\"]=1\n",
    "word_index[\"<UNK>\"]=2 #unknown\n",
    "word_index[\"UNUSED\"]=3\n",
    "\n",
    "reverse_word_index = dict([(value, key) for (key, value) in word_index.items()]) #value 숫자 key 단어\n",
    "\n",
    "def decode_review(text):\n",
    "    return ' '.join([reverse_word_index.get(i,'?') for i in text])"
   ]
  },
  {
   "cell_type": "markdown",
   "metadata": {},
   "source": [
    "<font color='blue'><b>reverse_word_index </b></font>= {34704: 'fawn',\n",
    " 52009: 'tsukino',\n",
    " 52010: 'nunnery',\n",
    " 16819: 'sonja',\n",
    " 63954: 'vani',\n",
    " 1411: 'woods',\n",
    " 16118: 'spiders',\n",
    " 2348: 'hanging',\n",
    " 2292: 'woody',\n",
    " 52011: 'trawling',\n",
    " 52012: \"hold's\",\n",
    " 11310: 'comically',\n",
    " 40833: 'localized',\n",
    " 30571: 'disobeying',etc ... }"
   ]
  },
  {
   "cell_type": "markdown",
   "metadata": {},
   "source": [
    "## dict.get(key, default = None) \n",
    "### Parameters\n",
    "key − This is the Key to be searched in the dictionary.\n",
    "\n",
    "default − This is the Value to be returned in case key does not exist."
   ]
  },
  {
   "cell_type": "code",
   "execution_count": 8,
   "metadata": {},
   "outputs": [
    {
     "data": {
      "text/plain": [
       "\"START this film was just brilliant casting location scenery story direction everyone's really suited the part they played and you could just imagine being there robert <UNK> is an amazing actor and now the same being director <UNK> father came from the same scottish island as myself so i loved the fact there was a real connection with this film the witty remarks throughout the film were great it was just brilliant so much that i bought the film as soon as it was released for <UNK> and would recommend it to everyone to watch and the fly fishing was amazing really cried at the end it was so sad and you know what they say if you cry at a film it must have been good and this definitely was also <UNK> to the two little boy's that played the <UNK> of norman and paul they were just brilliant children are often left out of the <UNK> list i think because the stars that play them all grown up are such a big profile for the whole film but these children are amazing and should be praised for what they have done don't you think the whole story was so lovely because it was true and was someone's life after all that was shared with us all\""
      ]
     },
     "execution_count": 8,
     "metadata": {},
     "output_type": "execute_result"
    }
   ],
   "source": [
    "decode_review(train_data[0])"
   ]
  },
  {
   "cell_type": "markdown",
   "metadata": {},
   "source": [
    "### 데이터 준비 \n",
    "- 원-핫 인코딩(one-hot encoding)\n",
    "- 임베딩(embedding) "
   ]
  },
  {
   "cell_type": "code",
   "execution_count": 9,
   "metadata": {},
   "outputs": [],
   "source": [
    "train_data = keras.preprocessing.sequence.pad_sequences(train_data,\n",
    "                                                       value=word_index['<PAD>'],\n",
    "                                                       padding='post',\n",
    "                                                      maxlen=256)\n",
    "\n",
    "test_data = keras.preprocessing.sequence.pad_sequences(test_data,\n",
    "                                                       value=word_index[\"<PAD>\"],\n",
    "                                                       padding='post',\n",
    "                                                       maxlen=256)"
   ]
  },
  {
   "cell_type": "code",
   "execution_count": 10,
   "metadata": {},
   "outputs": [
    {
     "data": {
      "text/plain": [
       "(256, 256)"
      ]
     },
     "execution_count": 10,
     "metadata": {},
     "output_type": "execute_result"
    }
   ],
   "source": [
    "len(train_data[0]), len(train_data[1]) # 원래 값 (218, 189)"
   ]
  },
  {
   "cell_type": "code",
   "execution_count": 11,
   "metadata": {},
   "outputs": [
    {
     "name": "stdout",
     "output_type": "stream",
     "text": [
      "[   1   14   22   16   43  530  973 1622 1385   65  458 4468   66 3941\n",
      "    4  173   36  256    5   25  100   43  838  112   50  670    2    9\n",
      "   35  480  284    5  150    4  172  112  167    2  336  385   39    4\n",
      "  172 4536 1111   17  546   38   13  447    4  192   50   16    6  147\n",
      " 2025   19   14   22    4 1920 4613  469    4   22   71   87   12   16\n",
      "   43  530   38   76   15   13 1247    4   22   17  515   17   12   16\n",
      "  626   18    2    5   62  386   12    8  316    8  106    5    4 2223\n",
      " 5244   16  480   66 3785   33    4  130   12   16   38  619    5   25\n",
      "  124   51   36  135   48   25 1415   33    6   22   12  215   28   77\n",
      "   52    5   14  407   16   82    2    8    4  107  117 5952   15  256\n",
      "    4    2    7 3766    5  723   36   71   43  530  476   26  400  317\n",
      "   46    7    4    2 1029   13  104   88    4  381   15  297   98   32\n",
      " 2071   56   26  141    6  194 7486   18    4  226   22   21  134  476\n",
      "   26  480    5  144   30 5535   18   51   36   28  224   92   25  104\n",
      "    4  226   65   16   38 1334   88   12   16  283    5   16 4472  113\n",
      "  103   32   15   16 5345   19  178   32    0    0    0    0    0    0\n",
      "    0    0    0    0    0    0    0    0    0    0    0    0    0    0\n",
      "    0    0    0    0    0    0    0    0    0    0    0    0    0    0\n",
      "    0    0    0    0]\n"
     ]
    }
   ],
   "source": [
    "print(train_data[0])"
   ]
  },
  {
   "cell_type": "markdown",
   "metadata": {},
   "source": [
    "### 모델 구성"
   ]
  },
  {
   "cell_type": "code",
   "execution_count": 12,
   "metadata": {},
   "outputs": [
    {
     "name": "stdout",
     "output_type": "stream",
     "text": [
      "Model: \"sequential\"\n",
      "_________________________________________________________________\n",
      "Layer (type)                 Output Shape              Param #   \n",
      "=================================================================\n",
      "embedding (Embedding)        (None, None, 16)          160000    \n",
      "_________________________________________________________________\n",
      "global_average_pooling1d (Gl (None, 16)                0         \n",
      "_________________________________________________________________\n",
      "dense (Dense)                (None, 16)                272       \n",
      "_________________________________________________________________\n",
      "dense_1 (Dense)              (None, 1)                 17        \n",
      "=================================================================\n",
      "Total params: 160,289\n",
      "Trainable params: 160,289\n",
      "Non-trainable params: 0\n",
      "_________________________________________________________________\n"
     ]
    }
   ],
   "source": [
    "vocab_size=10000\n",
    "\n",
    "model = keras.Sequential()\n",
    "model.add(keras.layers.Embedding(vocab_size, 16, input_shape=(None,))) # (batch, sequence, embedding)\n",
    "model.add(keras.layers.GlobalAveragePooling1D())\n",
    "model.add(keras.layers.Dense(16, activation='relu'))\n",
    "model.add(keras.layers.Dense(1, activation='sigmoid'))\n",
    "\n",
    "model.summary()"
   ]
  },
  {
   "cell_type": "code",
   "execution_count": 13,
   "metadata": {},
   "outputs": [],
   "source": [
    "model.compile(optimizer='adam',\n",
    "             loss='binary_crossentropy',\n",
    "             metrics=['acc'])"
   ]
  },
  {
   "cell_type": "markdown",
   "metadata": {},
   "source": [
    "### 검증 세트 만들기"
   ]
  },
  {
   "cell_type": "code",
   "execution_count": 14,
   "metadata": {},
   "outputs": [],
   "source": [
    "x_val = train_data[:10000]\n",
    "partial_x_train = train_data[10000:]\n",
    "\n",
    "y_val = train_labels[:10000]\n",
    "partial_y_train = train_labels[10000:]"
   ]
  },
  {
   "cell_type": "markdown",
   "metadata": {},
   "source": [
    "### 모델 훈련"
   ]
  },
  {
   "cell_type": "code",
   "execution_count": 15,
   "metadata": {},
   "outputs": [
    {
     "name": "stdout",
     "output_type": "stream",
     "text": [
      "Train on 15000 samples, validate on 10000 samples\n",
      "Epoch 1/40\n",
      "15000/15000 [==============================] - 1s 65us/sample - loss: 0.6922 - acc: 0.5889 - val_loss: 0.6906 - val_acc: 0.6781\n",
      "Epoch 2/40\n",
      "15000/15000 [==============================] - 1s 51us/sample - loss: 0.6874 - acc: 0.7207 - val_loss: 0.6837 - val_acc: 0.7096\n",
      "Epoch 3/40\n",
      "15000/15000 [==============================] - 1s 51us/sample - loss: 0.6759 - acc: 0.7448 - val_loss: 0.6686 - val_acc: 0.7528\n",
      "Epoch 4/40\n",
      "15000/15000 [==============================] - 1s 51us/sample - loss: 0.6548 - acc: 0.7595 - val_loss: 0.6441 - val_acc: 0.7539\n",
      "Epoch 5/40\n",
      "15000/15000 [==============================] - 1s 50us/sample - loss: 0.6229 - acc: 0.7896 - val_loss: 0.6103 - val_acc: 0.7803\n",
      "Epoch 6/40\n",
      "15000/15000 [==============================] - 1s 53us/sample - loss: 0.5817 - acc: 0.8090 - val_loss: 0.5701 - val_acc: 0.7987\n",
      "Epoch 7/40\n",
      "15000/15000 [==============================] - 1s 51us/sample - loss: 0.5348 - acc: 0.8249 - val_loss: 0.5259 - val_acc: 0.8155\n",
      "Epoch 8/40\n",
      "15000/15000 [==============================] - 1s 52us/sample - loss: 0.4873 - acc: 0.8431 - val_loss: 0.4846 - val_acc: 0.8301\n",
      "Epoch 9/40\n",
      "15000/15000 [==============================] - 1s 52us/sample - loss: 0.4428 - acc: 0.8575 - val_loss: 0.4471 - val_acc: 0.8417\n",
      "Epoch 10/40\n",
      "15000/15000 [==============================] - 1s 51us/sample - loss: 0.4033 - acc: 0.8710 - val_loss: 0.4159 - val_acc: 0.8490\n",
      "Epoch 11/40\n",
      "15000/15000 [==============================] - 1s 50us/sample - loss: 0.3698 - acc: 0.8787 - val_loss: 0.3901 - val_acc: 0.8570\n",
      "Epoch 12/40\n",
      "15000/15000 [==============================] - 1s 52us/sample - loss: 0.3416 - acc: 0.8873 - val_loss: 0.3703 - val_acc: 0.8597\n",
      "Epoch 13/40\n",
      "15000/15000 [==============================] - 1s 52us/sample - loss: 0.3186 - acc: 0.8933 - val_loss: 0.3527 - val_acc: 0.8666\n",
      "Epoch 14/40\n",
      "15000/15000 [==============================] - 1s 51us/sample - loss: 0.2980 - acc: 0.8988 - val_loss: 0.3399 - val_acc: 0.8693\n",
      "Epoch 15/40\n",
      "15000/15000 [==============================] - 1s 51us/sample - loss: 0.2808 - acc: 0.9031 - val_loss: 0.3293 - val_acc: 0.8731\n",
      "Epoch 16/40\n",
      "15000/15000 [==============================] - 1s 51us/sample - loss: 0.2653 - acc: 0.9089 - val_loss: 0.3204 - val_acc: 0.8736\n",
      "Epoch 17/40\n",
      "15000/15000 [==============================] - 1s 50us/sample - loss: 0.2512 - acc: 0.9136 - val_loss: 0.3131 - val_acc: 0.8761\n",
      "Epoch 18/40\n",
      "15000/15000 [==============================] - 1s 50us/sample - loss: 0.2386 - acc: 0.9184 - val_loss: 0.3067 - val_acc: 0.8800\n",
      "Epoch 19/40\n",
      "15000/15000 [==============================] - 1s 54us/sample - loss: 0.2273 - acc: 0.9211 - val_loss: 0.3013 - val_acc: 0.8808\n",
      "Epoch 20/40\n",
      "15000/15000 [==============================] - 1s 58us/sample - loss: 0.2171 - acc: 0.9243 - val_loss: 0.2976 - val_acc: 0.8808\n",
      "Epoch 21/40\n",
      "15000/15000 [==============================] - 1s 56us/sample - loss: 0.2068 - acc: 0.9297 - val_loss: 0.2944 - val_acc: 0.8822\n",
      "Epoch 22/40\n",
      "15000/15000 [==============================] - 1s 54us/sample - loss: 0.1981 - acc: 0.9319 - val_loss: 0.2915 - val_acc: 0.8834\n",
      "Epoch 23/40\n",
      "15000/15000 [==============================] - 1s 55us/sample - loss: 0.1893 - acc: 0.9365 - val_loss: 0.2901 - val_acc: 0.8831\n",
      "Epoch 24/40\n",
      "15000/15000 [==============================] - 1s 56us/sample - loss: 0.1818 - acc: 0.9401 - val_loss: 0.2882 - val_acc: 0.8841\n",
      "Epoch 25/40\n",
      "15000/15000 [==============================] - 1s 55us/sample - loss: 0.1740 - acc: 0.9442 - val_loss: 0.2865 - val_acc: 0.8841\n",
      "Epoch 26/40\n",
      "15000/15000 [==============================] - 1s 56us/sample - loss: 0.1671 - acc: 0.9471 - val_loss: 0.2867 - val_acc: 0.8833\n",
      "Epoch 27/40\n",
      "15000/15000 [==============================] - 1s 55us/sample - loss: 0.1605 - acc: 0.9494 - val_loss: 0.2860 - val_acc: 0.8843\n",
      "Epoch 28/40\n",
      "15000/15000 [==============================] - 1s 58us/sample - loss: 0.1542 - acc: 0.9525 - val_loss: 0.2861 - val_acc: 0.8848\n",
      "Epoch 29/40\n",
      "15000/15000 [==============================] - 1s 58us/sample - loss: 0.1487 - acc: 0.9551 - val_loss: 0.2875 - val_acc: 0.8840\n",
      "Epoch 30/40\n",
      "15000/15000 [==============================] - 1s 55us/sample - loss: 0.1429 - acc: 0.9564 - val_loss: 0.2866 - val_acc: 0.8856\n",
      "Epoch 31/40\n",
      "15000/15000 [==============================] - 1s 55us/sample - loss: 0.1371 - acc: 0.9599 - val_loss: 0.2874 - val_acc: 0.8869\n",
      "Epoch 32/40\n",
      "15000/15000 [==============================] - 1s 52us/sample - loss: 0.1318 - acc: 0.9613 - val_loss: 0.2886 - val_acc: 0.8859\n",
      "Epoch 33/40\n",
      "15000/15000 [==============================] - 1s 53us/sample - loss: 0.1267 - acc: 0.9631 - val_loss: 0.2906 - val_acc: 0.8852\n",
      "Epoch 34/40\n",
      "15000/15000 [==============================] - 1s 53us/sample - loss: 0.1222 - acc: 0.9652 - val_loss: 0.2924 - val_acc: 0.8858\n",
      "Epoch 35/40\n",
      "15000/15000 [==============================] - 1s 53us/sample - loss: 0.1180 - acc: 0.9659 - val_loss: 0.2947 - val_acc: 0.8861\n",
      "Epoch 36/40\n",
      "15000/15000 [==============================] - 1s 54us/sample - loss: 0.1134 - acc: 0.9686 - val_loss: 0.2963 - val_acc: 0.8854\n",
      "Epoch 37/40\n",
      "15000/15000 [==============================] - 1s 53us/sample - loss: 0.1090 - acc: 0.9693 - val_loss: 0.2986 - val_acc: 0.8853\n",
      "Epoch 38/40\n",
      "15000/15000 [==============================] - 1s 53us/sample - loss: 0.1050 - acc: 0.9711 - val_loss: 0.3019 - val_acc: 0.8839\n",
      "Epoch 39/40\n",
      "15000/15000 [==============================] - 1s 54us/sample - loss: 0.1018 - acc: 0.9722 - val_loss: 0.3050 - val_acc: 0.8829\n",
      "Epoch 40/40\n",
      "15000/15000 [==============================] - 1s 53us/sample - loss: 0.0977 - acc: 0.9739 - val_loss: 0.3075 - val_acc: 0.8838\n"
     ]
    }
   ],
   "source": [
    "history = model.fit(partial_x_train,\n",
    "                   partial_y_train,\n",
    "                   epochs=40,\n",
    "                   batch_size=512,\n",
    "                   validation_data=(x_val, y_val),\n",
    "                   verbose=1)"
   ]
  },
  {
   "cell_type": "markdown",
   "metadata": {},
   "source": [
    "### 모델 평가"
   ]
  },
  {
   "cell_type": "code",
   "execution_count": 16,
   "metadata": {},
   "outputs": [
    {
     "name": "stdout",
     "output_type": "stream",
     "text": [
      "25000/25000 [==============================] - 0s 17us/sample - loss: 0.3279 - acc: 0.8724\n",
      "[0.32791716671943666, 0.87236]\n"
     ]
    }
   ],
   "source": [
    "results=model.evaluate(test_data, test_labels)\n",
    "print(results)"
   ]
  },
  {
   "cell_type": "markdown",
   "metadata": {},
   "source": [
    "### 정확도와 손실 그래프 그리기"
   ]
  },
  {
   "cell_type": "code",
   "execution_count": 17,
   "metadata": {},
   "outputs": [
    {
     "data": {
      "text/plain": [
       "dict_keys(['loss', 'acc', 'val_loss', 'val_acc'])"
      ]
     },
     "execution_count": 17,
     "metadata": {},
     "output_type": "execute_result"
    }
   ],
   "source": [
    "history_dict = history.history\n",
    "history_dict.keys()"
   ]
  },
  {
   "cell_type": "code",
   "execution_count": 20,
   "metadata": {},
   "outputs": [
    {
     "data": {
      "image/png": "[encoded data removed]",
      "text/plain": [
       "<Figure size 432x288 with 1 Axes>"
      ]
     },
     "metadata": {
      "needs_background": "light"
     },
     "output_type": "display_data"
    }
   ],
   "source": [
    "import matplotlib.pyplot as plt\n",
    "\n",
    "acc = history_dict['acc']\n",
    "val_acc = history_dict['val_acc']\n",
    "loss=history_dict['loss']\n",
    "val_loss=history_dict['val_loss']\n",
    "\n",
    "epochs=range(1,len(acc)+1)\n",
    "\n",
    "plt.plot(epochs, loss, 'bo', label='Training loss')\n",
    "plt.plot(epochs, val_loss, 'b', label='Validation loss')\n",
    "plt.title('Training and Validation Loss')\n",
    "plt.xlabel('Epochs')\n",
    "plt.ylabel('Loss')\n",
    "plt.legend()\n",
    "\n",
    "plt.show()"
   ]
  },
  {
   "cell_type": "code",
   "execution_count": 19,
   "metadata": {},
   "outputs": [
    {
     "data": {
      "image/png": "[encoded data removed]",
      "text/plain": [
       "<Figure size 432x288 with 1 Axes>"
      ]
     },
     "metadata": {
      "needs_background": "light"
     },
     "output_type": "display_data"
    }
   ],
   "source": [
    "plt.clf()   # 그림을 초기화합니다\n",
    "\n",
    "plt.plot(epochs, acc, 'bo', label='Training acc')\n",
    "plt.plot(epochs, val_acc, 'b', label='Validation acc')\n",
    "plt.title('Training and validation accuracy')\n",
    "plt.xlabel('Epochs')\n",
    "plt.ylabel('Accuracy')\n",
    "plt.legend()\n",
    "\n",
    "plt.show()"
   ]
  }
 ],
 "metadata": {
  "kernelspec": {
   "display_name": "tf20",
   "language": "python",
   "name": "tf20"
  },
  "language_info": {
   "codemirror_mode": {
    "name": "ipython",
    "version": 3
   },
   "file_extension": ".py",
   "mimetype": "text/x-python",
   "name": "python",
   "nbconvert_exporter": "python",
   "pygments_lexer": "ipython3",
   "version": "3.6.8"
  }
 },
 "nbformat": 4,
 "nbformat_minor": 2
}
