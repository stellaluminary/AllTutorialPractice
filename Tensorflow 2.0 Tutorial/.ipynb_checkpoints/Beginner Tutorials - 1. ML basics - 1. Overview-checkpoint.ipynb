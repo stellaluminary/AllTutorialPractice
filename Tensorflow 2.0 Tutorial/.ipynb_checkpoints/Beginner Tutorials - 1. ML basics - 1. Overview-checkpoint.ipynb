{
 "cells": [
  {
   "cell_type": "markdown",
   "metadata": {},
   "source": [
    "# Beginner Tutorials - 1. ML basics\n",
    "1. Overview\n",
    "- Classify images\n",
    "- Classify text\n",
    "- Classify structured data\n",
    "- Regression\n",
    "- Overfitting and Underfitting\n",
    "- Save and Restore Models"
   ]
  },
  {
   "cell_type": "markdown",
   "metadata": {},
   "source": [
    "# 1. Overview\n",
    "## 머신러닝의 기본 원리와 개념을 배우기 위한 머신러닝 단기집중과정\n",
    "https://developers.google.com/machine-learning/crash-course/?hl=ko"
   ]
  }
 ],
 "metadata": {
  "kernelspec": {
   "display_name": "tf20",
   "language": "python",
   "name": "tf20"
  },
  "language_info": {
   "codemirror_mode": {
    "name": "ipython",
    "version": 3
   },
   "file_extension": ".py",
   "mimetype": "text/x-python",
   "name": "python",
   "nbconvert_exporter": "python",
   "pygments_lexer": "ipython3",
   "version": "3.6.8"
  }
 },
 "nbformat": 4,
 "nbformat_minor": 2
}
