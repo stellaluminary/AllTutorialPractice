{
 "cells": [
  {
   "cell_type": "code",
   "execution_count": 1,
   "metadata": {},
   "outputs": [],
   "source": [
    "from __future__ import absolute_import, division, print_function, unicode_literals\n",
    "\n",
    "import os\n",
    "import sys\n",
    "import time\n",
    "import glob\n",
    "\n",
    "import numpy as np\n",
    "import matplotlib.pyplot as plt\n",
    "%matplotlib inline\n",
    "\n",
    "import PIL\n",
    "import imageio\n",
    "from IPython import display\n",
    "\n",
    "import tensorflow as tf\n",
    "from tensorflow.keras import layers\n",
    "\n",
    "os.environ['CUDA_VISIBLE_DEVICE']='0'"
   ]
  },
  {
   "cell_type": "code",
   "execution_count": 4,
   "metadata": {},
   "outputs": [
    {
     "data": {
      "text/plain": [
       "'C:\\\\Users\\\\la\\\\Tensorflow 2.0 Tutorial\\\\2. Advanced Tutorials\\\\3. Image Generation'"
      ]
     },
     "execution_count": 4,
     "metadata": {},
     "output_type": "execute_result"
    }
   ],
   "source": [
    "#os.environ\n",
    "#os.environ['PATH']\n",
    "os.getcwd()"
   ]
  },
  {
   "cell_type": "code",
   "execution_count": 5,
   "metadata": {},
   "outputs": [],
   "source": [
    "model_name='dcgan'\n",
    "train_dir = os.path.join('train', model_name, 'exp1')\n",
    "dataset_name = 'mnist'\n",
    "assert dataset_name in ['mnist', 'fashion_mnist']\n",
    "max_epochs=50\n",
    "save_model_epochs=10\n",
    "print_step=100\n",
    "save_images_epochs=1\n",
    "batch_size=256\n",
    "learning_rate_D = 1e-4\n",
    "learning_rate_G = 1e-4\n",
    "k=1\n",
    "num_examples_to_generate = 25\n",
    "noise_dim = 100"
   ]
  },
  {
   "cell_type": "code",
   "execution_count": 6,
   "metadata": {},
   "outputs": [],
   "source": [
    "if dataset_name =='mnist':\n",
    "    (train_images, train_labels), _ = tf.keras.datasets.mnist.load_data()\n",
    "else:\n",
    "    (train_images, train_labels), _ = tf.keras.datasets.fashion_mnist.load_data()    "
   ]
  },
  {
   "cell_type": "code",
   "execution_count": 7,
   "metadata": {},
   "outputs": [
    {
     "data": {
      "text/plain": [
       "(60000, 28, 28)"
      ]
     },
     "execution_count": 7,
     "metadata": {},
     "output_type": "execute_result"
    }
   ],
   "source": [
    "train_images.shape"
   ]
  },
  {
   "cell_type": "code",
   "execution_count": 8,
   "metadata": {},
   "outputs": [],
   "source": [
    "train_images = train_images.reshape(-1,28,28,1).astype('float32')\n",
    "#train_images = (train_images - 127.5) / 127.5 #[-1,1]\n",
    "train_images = train_images / 255. #[0,1]"
   ]
  },
  {
   "cell_type": "code",
   "execution_count": 9,
   "metadata": {},
   "outputs": [],
   "source": [
    "N = len(train_images)\n",
    "train_dataset = tf.data.Dataset.from_tensor_slices(train_images)\n",
    "train_dataset = train_dataset.shuffle(buffer_size = N).batch(batch_size = batch_size)"
   ]
  },
  {
   "cell_type": "code",
   "execution_count": 13,
   "metadata": {},
   "outputs": [],
   "source": [
    "class Conv(tf.keras.Model):\n",
    "    def __init__(self, filters, kernel_size, strides, padding='same', apply_batchnorm=True, activation='relu'):\n",
    "        super(Conv, self).__init__()\n",
    "        self.apply_batchnorm = apply_batchnorm\n",
    "        assert activation in ['relu', 'leaky_relu','none']\n",
    "        self.activation = activation\n",
    "        \n",
    "        self.conv = layers.Conv2D(filters = filters,\n",
    "                                 kernel_size = (kernel_size,kernel_size),\n",
    "                                 strides=strides,\n",
    "                                 padding=padding,\n",
    "                                 kernel_initializer = tf.random_normal_initializer(0., 0.02),\n",
    "                                 use_bias=not self.apply_batchnorm)\n",
    "        if self.apply_batchnorm:\n",
    "            self.batch_norm = layers.BatchNormalization()\n",
    "            \n",
    "    def call(self, x, training=True):\n",
    "        x = self.conv(x)\n",
    "        if self.apply_batchnorm:\n",
    "            x = self.batchnorm(x, training=training)\n",
    "            \n",
    "        if self.activation =='relu':\n",
    "            x = tf.nn.relu(x)\n",
    "        elif self.activation =='leaky_relu':\n",
    "            x = tf.nn.leaky_relu(x)\n",
    "        else:\n",
    "            pass\n",
    "        return x"
   ]
  },
  {
   "cell_type": "code",
   "execution_count": 12,
   "metadata": {},
   "outputs": [],
   "source": [
    "class ConvTranspose(tf.keras.Model):\n",
    "    def __init__(self, filters, kernel_size, strides, padding='same', apply_batchnorm=True, activation='relu'):\n",
    "        super(ConvTranspose, self).__init__()\n",
    "        self.apply_batchnorm = apply_batchnorm\n",
    "        assert activation in ['relu', 'leaky_relu','tanh']\n",
    "        self.activation = activation\n",
    "        \n",
    "        self.up_conv = layers.Conv2DTranspose(filters = filters,\n",
    "                                 kernel_size = (kernel_size,kernel_size),\n",
    "                                 strides=strides,\n",
    "                                 padding=padding,\n",
    "                                 kernel_initializer = tf.random_normal_initializer(0., 0.02),\n",
    "                                 use_bias=not self.apply_batchnorm)\n",
    "        if self.apply_batchnorm:\n",
    "            self.batch_norm = layers.BatchNormalization()\n",
    "            \n",
    "    def call(self, x, training=True):\n",
    "        x = self.up_conv(x)\n",
    "        if self.apply_batchnorm:\n",
    "            x = self.batchnorm(x, training=training)\n",
    "            \n",
    "        if self.activation =='relu':\n",
    "            x = tf.nn.relu(x)\n",
    "        elif self.activation =='leaky_relu':\n",
    "            x = tf.nn.leaky_relu(x)\n",
    "        else:\n",
    "            x = tf.nn.tanh(x)\n",
    "            \n",
    "        return x"
   ]
  },
  {
   "cell_type": "code",
   "execution_count": 16,
   "metadata": {},
   "outputs": [],
   "source": [
    "class Generator(tf.keras.Model):\n",
    "    def __init__(self):\n",
    "        super(Generator, self).__init__()\n",
    "        self.conv1 = ConvTranspose(256,3,padding='valid')\n",
    "        self.conv2 = ConvTranspose(128,3,padding='valid')\n",
    "        self.conv3 = ConvTranspose(64,4)\n",
    "        self.conv4 = ConvTranspose(1,4, apply_batchnorm=False, activation='tanh')\n",
    "        \n",
    "    def call(self, inputs, training=True):\n",
    "        conv1 = self.conv1(inputs, training=training)\n",
    "        conv2 = self.conv2(conv1, training=training)\n",
    "        conv3 = self.conv3(conv2, training=training)\n",
    "        generated_images = self.conv4(conv3, training=training)\n",
    "        \n",
    "        return generated_images"
   ]
  },
  {
   "cell_type": "code",
   "execution_count": null,
   "metadata": {},
   "outputs": [],
   "source": [
    "class Discriminator(tf.keras.Model):\n",
    "    def __init__(self):\n",
    "        super(Discriminator, self).__init__()\n",
    "        self.conv1 = Conv(64, 4, 2, apply_batchnorm=False, activation='leaky_relu')\n",
    "        self.conv2 = Conv(128, 4, 2, activation='leaky_relu')\n",
    "        self.conv3 = Conv(256, 3, 2, padding='valid', activation='leaky_relu')\n",
    "        self.conv4 = Conv(1, 3, 2, padding='valid', apply_batchnorm=False, activation='none')\n",
    "        \n",
    "    def call(self, inputs, training=True):\n",
    "        conv1 = self.conv1(inputs)\n",
    "        conv2 = self.conv2(conv1)\n",
    "        conv3 = self.conv3(conv2)\n",
    "        conv4 = self.conv4(conv3)\n",
    "        discriminator_logits = tf.squeeze(conv4, axis=[1,2])\n",
    "        \n",
    "        return discriminator_logits"
   ]
  },
  {
   "cell_type": "code",
   "execution_count": 17,
   "metadata": {},
   "outputs": [
    {
     "data": {
      "text/plain": [
       "TensorShape([1, 2, 1, 1, 3, 1, 1])"
      ]
     },
     "execution_count": 17,
     "metadata": {},
     "output_type": "execute_result"
    }
   ],
   "source": [
    "t = tf.random.normal([1,2,1,1,3,1,1])\n",
    "t.shape"
   ]
  },
  {
   "cell_type": "code",
   "execution_count": null,
   "metadata": {},
   "outputs": [],
   "source": []
  }
 ],
 "metadata": {
  "kernelspec": {
   "display_name": "tf20a",
   "language": "python",
   "name": "tf20a"
  },
  "language_info": {
   "codemirror_mode": {
    "name": "ipython",
    "version": 3
   },
   "file_extension": ".py",
   "mimetype": "text/x-python",
   "name": "python",
   "nbconvert_exporter": "python",
   "pygments_lexer": "ipython3",
   "version": "3.6.8"
  }
 },
 "nbformat": 4,
 "nbformat_minor": 2
}
