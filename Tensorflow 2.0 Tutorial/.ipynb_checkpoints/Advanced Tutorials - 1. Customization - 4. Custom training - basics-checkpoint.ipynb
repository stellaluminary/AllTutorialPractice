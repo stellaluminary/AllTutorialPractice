{
 "cells": [
  {
   "cell_type": "markdown",
   "metadata": {},
   "source": [
    "# Advanced Tutorials - 1. Customization \n",
    "# 4. Custom training - basics\n",
    "1. Setup\n",
    "- Variables\n",
    "- Example:Fitting a linear model\n",
    " - Define the model\n",
    " - Define a loss function\n",
    " - Obtain training data\n",
    " - Define a training loop\n",
    "- Next Steps\n",
    "\n",
    "GitHub : https://github.com/tensorflow/docs/blob/master/site/en/r2/tutorials/eager/custom_training.ipynb<br>\n",
    "Colab : https://colab.research.google.com/github/tensorflow/docs/blob/master/site/en/r2/tutorials/eager/custom_training.ipynb"
   ]
  },
  {
   "cell_type": "markdown",
   "metadata": {},
   "source": [
    "## 1. Setup"
   ]
  },
  {
   "cell_type": "code",
   "execution_count": 1,
   "metadata": {},
   "outputs": [],
   "source": [
    "from __future__ import absolute_import, division, print_function, unicode_literals\n",
    "import tensorflow as tf"
   ]
  },
  {
   "cell_type": "markdown",
   "metadata": {},
   "source": [
    "## 2. Variables"
   ]
  },
  {
   "cell_type": "code",
   "execution_count": 2,
   "metadata": {},
   "outputs": [
    {
     "name": "stdout",
     "output_type": "stream",
     "text": [
      "tf.Tensor(\n",
      "[[2. 2. 2. 2. 2. 2. 2. 2. 2. 2.]\n",
      " [2. 2. 2. 2. 2. 2. 2. 2. 2. 2.]\n",
      " [2. 2. 2. 2. 2. 2. 2. 2. 2. 2.]\n",
      " [2. 2. 2. 2. 2. 2. 2. 2. 2. 2.]\n",
      " [2. 2. 2. 2. 2. 2. 2. 2. 2. 2.]\n",
      " [2. 2. 2. 2. 2. 2. 2. 2. 2. 2.]\n",
      " [2. 2. 2. 2. 2. 2. 2. 2. 2. 2.]\n",
      " [2. 2. 2. 2. 2. 2. 2. 2. 2. 2.]\n",
      " [2. 2. 2. 2. 2. 2. 2. 2. 2. 2.]\n",
      " [2. 2. 2. 2. 2. 2. 2. 2. 2. 2.]], shape=(10, 10), dtype=float32)\n"
     ]
    }
   ],
   "source": [
    "x=tf.zeros([10,10])\n",
    "x += 2\n",
    "print(x)"
   ]
  },
  {
   "cell_type": "code",
   "execution_count": 6,
   "metadata": {},
   "outputs": [],
   "source": [
    "v = tf.Variable(1.)\n",
    "assert v.numpy() == 1.\n",
    "\n",
    "v.assign(3.)\n",
    "assert v.numpy() == 3.\n",
    "\n",
    "v.assign(tf.square(v))\n",
    "assert v.numpy() == 9."
   ]
  },
  {
   "cell_type": "markdown",
   "metadata": {},
   "source": [
    "## 3. Example:Fitting a linear model\n",
    "1. Define the model\n",
    "- Define a loss function\n",
    "- Obtain training data\n",
    "- Define a training loop"
   ]
  },
  {
   "cell_type": "markdown",
   "metadata": {},
   "source": [
    "### 3-1 Define the model"
   ]
  },
  {
   "cell_type": "code",
   "execution_count": 7,
   "metadata": {},
   "outputs": [],
   "source": [
    "class Model(object):\n",
    "    def __init__(self):\n",
    "        self.W = tf.Variable(5.)\n",
    "        self.b = tf.Variable(0.)\n",
    "        \n",
    "    def __call__(self, x):\n",
    "        return self.W * x + self.b\n",
    "    \n",
    "model = Model()\n",
    "assert model(3.0).numpy() == 15."
   ]
  },
  {
   "cell_type": "markdown",
   "metadata": {},
   "source": [
    "### 3.2 Define a loss function"
   ]
  },
  {
   "cell_type": "code",
   "execution_count": 8,
   "metadata": {},
   "outputs": [],
   "source": [
    "def loss(predicted_y, desired_y):\n",
    "    return tf.reduce_mean(tf.square(predicted_y - desired_y))"
   ]
  },
  {
   "cell_type": "markdown",
   "metadata": {},
   "source": [
    "### 3.3 Obtain training data"
   ]
  },
  {
   "cell_type": "code",
   "execution_count": 10,
   "metadata": {},
   "outputs": [],
   "source": [
    "TRUE_W = 3.\n",
    "TREU_b = 2.\n",
    "NUM_EXAMPLES = 1000\n",
    "\n",
    "inputs = tf.random.normal(shape=[NUM_EXAMPLES])\n",
    "noise = tf.random.normal(shape=[NUM_EXAMPLES])\n",
    "outputs = inputs * TRUE_W + TREU_b + noise"
   ]
  },
  {
   "cell_type": "code",
   "execution_count": 12,
   "metadata": {},
   "outputs": [
    {
     "data": {
      "image/png": "[encoded data removed]",
      "text/plain": [
       "<Figure size 432x288 with 1 Axes>"
      ]
     },
     "metadata": {
      "needs_background": "light"
     },
     "output_type": "display_data"
    },
    {
     "name": "stdout",
     "output_type": "stream",
     "text": [
      "Current loss:\n",
      "9.49557\n"
     ]
    }
   ],
   "source": [
    "import matplotlib.pyplot as plt\n",
    "\n",
    "plt.scatter(inputs, outputs, c='b')\n",
    "plt.scatter(inputs, model(inputs), c='r')\n",
    "plt.show()\n",
    "\n",
    "print('Current loss:')\n",
    "print(loss(model(inputs), outputs).numpy())"
   ]
  },
  {
   "cell_type": "markdown",
   "metadata": {},
   "source": [
    "### 3.4 Define a training loop"
   ]
  },
  {
   "cell_type": "code",
   "execution_count": 17,
   "metadata": {},
   "outputs": [],
   "source": [
    "def train(model, inputs, outputs, learning_rate):\n",
    "    with tf.GradientTape() as t:\n",
    "        current_loss = loss(model(inputs), outputs)\n",
    "        \n",
    "    dW, db = t.gradient(current_loss, [model.W, model.b])\n",
    "    print('dW:',dW,'learning_rate * dW: ',learning_rate * dW)\n",
    "    print('db:',db,'learning_rate * db: ',learning_rate * db)\n",
    "    model.W.assign_sub(learning_rate * dW) #assign subtract\n",
    "    model.b.assign_sub(learning_rate * db)"
   ]
  },
  {
   "cell_type": "code",
   "execution_count": 18,
   "metadata": {},
   "outputs": [
    {
     "name": "stdout",
     "output_type": "stream",
     "text": [
      "dW: tf.Tensor(4.0932097, shape=(), dtype=float32) learning_rate * dW:  tf.Tensor(0.40932098, shape=(), dtype=float32)\n",
      "db: tf.Tensor(-4.3002243, shape=(), dtype=float32) learning_rate * db:  tf.Tensor(-0.43002245, shape=(), dtype=float32)\n",
      "Epoch  0: W=5.00 b=0.00, loss=9.49557\n",
      "dW: tf.Tensor(3.2549434, shape=(), dtype=float32) learning_rate * dW:  tf.Tensor(0.32549435, shape=(), dtype=float32)\n",
      "db: tf.Tensor(-3.4018998, shape=(), dtype=float32) learning_rate * db:  tf.Tensor(-0.34019, shape=(), dtype=float32)\n",
      "Epoch  1: W=4.59 b=0.43, loss=6.33565\n",
      "dW: tf.Tensor(2.588514, shape=(), dtype=float32) learning_rate * dW:  tf.Tensor(0.2588514, shape=(), dtype=float32)\n",
      "db: tf.Tensor(-2.6910796, shape=(), dtype=float32) learning_rate * db:  tf.Tensor(-0.26910797, shape=(), dtype=float32)\n",
      "Epoch  2: W=4.27 b=0.77, loss=4.34826\n",
      "dW: tf.Tensor(2.0586658, shape=(), dtype=float32) learning_rate * dW:  tf.Tensor(0.20586658, shape=(), dtype=float32)\n",
      "db: tf.Tensor(-2.128656, shape=(), dtype=float32) learning_rate * db:  tf.Tensor(-0.21286559, shape=(), dtype=float32)\n",
      "Epoch  3: W=4.01 b=1.04, loss=3.09828\n",
      "dW: tf.Tensor(1.6373816, shape=(), dtype=float32) learning_rate * dW:  tf.Tensor(0.16373816, shape=(), dtype=float32)\n",
      "db: tf.Tensor(-1.6836723, shape=(), dtype=float32) learning_rate * db:  tf.Tensor(-0.16836724, shape=(), dtype=float32)\n",
      "Epoch  4: W=3.80 b=1.25, loss=2.31208\n",
      "dW: tf.Tensor(1.302396, shape=(), dtype=float32) learning_rate * dW:  tf.Tensor(0.1302396, shape=(), dtype=float32)\n",
      "db: tf.Tensor(-1.331625, shape=(), dtype=float32) learning_rate * db:  tf.Tensor(-0.1331625, shape=(), dtype=float32)\n",
      "Epoch  5: W=3.64 b=1.42, loss=1.81756\n",
      "dW: tf.Tensor(1.036015, shape=(), dtype=float32) learning_rate * dW:  tf.Tensor(0.10360151, shape=(), dtype=float32)\n",
      "db: tf.Tensor(-1.05312, shape=(), dtype=float32) learning_rate * db:  tf.Tensor(-0.105312005, shape=(), dtype=float32)\n",
      "Epoch  6: W=3.51 b=1.55, loss=1.50651\n",
      "dW: tf.Tensor(0.824175, shape=(), dtype=float32) learning_rate * dW:  tf.Tensor(0.0824175, shape=(), dtype=float32)\n",
      "db: tf.Tensor(-0.83280724, shape=(), dtype=float32) learning_rate * db:  tf.Tensor(-0.08328073, shape=(), dtype=float32)\n",
      "Epoch  7: W=3.40 b=1.66, loss=1.31084\n",
      "dW: tf.Tensor(0.6556976, shape=(), dtype=float32) learning_rate * dW:  tf.Tensor(0.06556976, shape=(), dtype=float32)\n",
      "db: tf.Tensor(-0.65853816, shape=(), dtype=float32) learning_rate * db:  tf.Tensor(-0.06585382, shape=(), dtype=float32)\n",
      "Epoch  8: W=3.32 b=1.74, loss=1.18776\n",
      "dW: tf.Tensor(0.52169764, shape=(), dtype=float32) learning_rate * dW:  tf.Tensor(0.052169766, shape=(), dtype=float32)\n",
      "db: tf.Tensor(-0.5206984, shape=(), dtype=float32) learning_rate * db:  tf.Tensor(-0.052069843, shape=(), dtype=float32)\n",
      "Epoch  9: W=3.25 b=1.81, loss=1.11033\n"
     ]
    },
    {
     "data": {
      "image/png": "[encoded data removed]",
      "text/plain": [
       "<Figure size 432x288 with 1 Axes>"
      ]
     },
     "metadata": {
      "needs_background": "light"
     },
     "output_type": "display_data"
    }
   ],
   "source": [
    "model = Model()\n",
    "\n",
    "Ws, bs = [],[]\n",
    "epochs = range(10)\n",
    "for epoch in epochs:\n",
    "    Ws.append(model.W.numpy())\n",
    "    bs.append(model.b.numpy())\n",
    "    current_loss = loss(model(inputs), outputs)\n",
    "    \n",
    "    train(model,inputs, outputs, learning_rate=0.1)\n",
    "    print('Epoch %2d: W=%1.2f b=%1.2f, loss=%2.5f' % (epoch, Ws[-1], bs[-1], current_loss))\n",
    "    \n",
    "plt.plot(epochs, Ws,'r', epochs,bs,'b')\n",
    "plt.plot([TRUE_W] * len(epochs), 'r--',\n",
    "        [TREU_b] * len(epochs), 'b--')\n",
    "plt.legend(['W','b','true W','true b'])\n",
    "plt.show()"
   ]
  },
  {
   "cell_type": "code",
   "execution_count": null,
   "metadata": {},
   "outputs": [],
   "source": []
  }
 ],
 "metadata": {
  "kernelspec": {
   "display_name": "tf20a",
   "language": "python",
   "name": "tf20a"
  },
  "language_info": {
   "codemirror_mode": {
    "name": "ipython",
    "version": 3
   },
   "file_extension": ".py",
   "mimetype": "text/x-python",
   "name": "python",
   "nbconvert_exporter": "python",
   "pygments_lexer": "ipython3",
   "version": "3.6.8"
  }
 },
 "nbformat": 4,
 "nbformat_minor": 2
}
